{
 "cells": [
  {
   "cell_type": "code",
   "execution_count": 24,
   "metadata": {},
   "outputs": [
    {
     "name": "stdout",
     "output_type": "stream",
     "text": [
      "2\n"
     ]
    }
   ],
   "source": [
    "#variant 5✔\n",
    "\n",
    "#3X1**2 -X2 +X2**2 -3=0\n",
    "#X1 -(X2+3)**1/2 +1=0\n",
    "\n",
    "#выразим переменные\n",
    "#X2=3X1**2+X2**2 -3\n",
    "#X1 =(X2+3)**1/2 -1\n",
    "\n",
    "#X1 =(X2+3)**1/2 -1\n",
    "#X2=sqrt(X2-3X1**2 +3)\n",
    "\n",
    "N=int(input()) #2\n",
    "\n",
    "#A=[[3],[3]]\n",
    "#b=[-3,-1]"
   ]
  },
  {
   "cell_type": "code",
   "execution_count": 25,
   "metadata": {
    "collapsed": true
   },
   "outputs": [],
   "source": [
    "#def F_X1(x1,x2,tmp):tmp[0]=x1 tmp[1]=x2\n",
    "def F_X1(x1,x2):\n",
    "    \n",
    "    if x2+3<0:\n",
    "        print('it`s going wrong (sqrt(-number),where number>0)')\n",
    "        x_1=(x2+3)**0.5 - 1\n",
    "    else:\n",
    "        x_1=(x2+3)**0.5 - 1\n",
    "    return x_1"
   ]
  },
  {
   "cell_type": "code",
   "execution_count": 26,
   "metadata": {
    "collapsed": true
   },
   "outputs": [],
   "source": [
    "def F_X2(x1,x2):\n",
    "    x_2=(x2 - 3*x1**2 + 3)**0.5\n",
    "    return x_2"
   ]
  },
  {
   "cell_type": "code",
   "execution_count": 42,
   "metadata": {},
   "outputs": [
    {
     "name": "stdout",
     "output_type": "stream",
     "text": [
      "0.8\n",
      "0.8\n",
      "Answ by simple iterations:  [0.9994296964639631, 0.9984662950144895] 39\n"
     ]
    }
   ],
   "source": [
    "import copy\n",
    "#AAA=copy.deepcopy(A)\n",
    "\n",
    "B=[-3,-1]\n",
    "Tmp=[]\n",
    "X=[]\n",
    "Tmp.clear()\n",
    "X.clear()\n",
    "\n",
    "delta=10000\n",
    "eps=0.001\n",
    "stop=0\n",
    "devvi=[]\n",
    "\n",
    "for j in range(N):\n",
    "    Tmp.append(float(input()))# x1=0 x2=0\n",
    "    X.append(0)#x1=0 x2=0\n",
    "\n",
    "while delta >= eps:#сходится при начальном приближении = 0.9\n",
    "    #print()\n",
    "    devvi.clear()\n",
    "    stop+=1\n",
    "    #print('i-1:',Tmp) \n",
    "    if stop==100:\n",
    "        break\n",
    "              \n",
    "    for i in range(N):\n",
    "        box=0\n",
    "\n",
    "        if i == 0:\n",
    "            box+=F_X1(Tmp[0],Tmp[1])\n",
    "        else:\n",
    "            box+=F_X2(Tmp[0],Tmp[1])\n",
    "        \n",
    "\n",
    "        X[i]=copy.deepcopy(box)\n",
    "        \n",
    "    #print(X)\n",
    "     \n",
    "    for i in range(N):\n",
    "        devvi.append(X[i]-Tmp[i])\n",
    "    delta=round(abs(max(devvi,key=abs)),6)\n",
    "    #print('max difference: ',delta)\n",
    "    \n",
    "    for i in range(N):\n",
    "        Tmp[i]=copy.deepcopy(X[i])\n",
    "    #print(Tmp)\n",
    "        \n",
    "#print('last delta=',delta,' while epsilon is: ',eps)\n",
    "print('Answ by simple iterations: ',X,stop)\n"
   ]
  },
  {
   "cell_type": "code",
   "execution_count": 28,
   "metadata": {},
   "outputs": [
    {
     "name": "stdout",
     "output_type": "stream",
     "text": [
      "0.8\n",
      "0.8\n",
      "Answ by Ziedel`s method:  [0.9998143053559194, 1.0001856429299307] 5\n"
     ]
    }
   ],
   "source": [
    "#Ziedel`s method\n",
    "\n",
    "B=[-3,-1]\n",
    "Tmp=[]\n",
    "X=[]\n",
    "Tmp.clear()\n",
    "X.clear()\n",
    "\n",
    "delta=10000\n",
    "eps=0.001\n",
    "stop=0\n",
    "devvi=[]\n",
    "\n",
    "for j in range(N):\n",
    "    Tmp.append(float(input()))\n",
    "    #X.append(0)\n",
    "    X.append(copy.deepcopy(Tmp[j]))\n",
    "\n",
    "while delta > eps:#сходится при нулевом начальном приближении\n",
    "    #print()\n",
    "    devvi.clear()\n",
    "    stop+=1\n",
    "    if stop==50:\n",
    "        break\n",
    "        \n",
    "    for i in range(N):\n",
    "        box=0\n",
    "        \n",
    "        if i == 0:\n",
    "            box+=F_X1(X[0],X[1])\n",
    "        else:\n",
    "            box+=F_X2(X[0],X[1])\n",
    "        \n",
    "        #print(box)\n",
    "        X[i]=copy.deepcopy(box)\n",
    "        \n",
    "        \n",
    "    #print('n-1:',Tmp)\n",
    "    #print('n:',X)\n",
    "        \n",
    "    for i in range(N):\n",
    "        devvi.append(X[i]-Tmp[i])\n",
    "    delta=round(abs(max(devvi,key=abs)),6)\n",
    "    #print('max difference: ',delta)\n",
    "    \n",
    "    for i in range(N):\n",
    "        Tmp[i]=copy.deepcopy(X[i])\n",
    "        \n",
    "#print('last delta=',delta,' while epsilon is: ',eps)\n",
    "print('Answ by Ziedel`s method: ',X,stop)"
   ]
  },
  {
   "cell_type": "code",
   "execution_count": 29,
   "metadata": {
    "collapsed": true
   },
   "outputs": [],
   "source": [
    "def Matr_of_Fx(x):#x=[x1,x2]\n",
    "    \n",
    "    a_obr=[[6*x[0],2*x[1]-1],[1,(-1)/(2*(x[1]+3)**0.5)]]\n",
    "    \n",
    "    return a_obr"
   ]
  },
  {
   "cell_type": "code",
   "execution_count": 30,
   "metadata": {
    "collapsed": true
   },
   "outputs": [],
   "source": [
    "def F1_F2(x_mass):#x=[x1,x2]\n",
    "    \n",
    "    F_str=[3*x_mass[0]**2 -x_mass[1] +x_mass[1]**2 -3, x_mass[0] -(x_mass[1]+3)**0.5 +1]\n",
    "    \n",
    "    return F_str"
   ]
  },
  {
   "cell_type": "code",
   "execution_count": 43,
   "metadata": {},
   "outputs": [
    {
     "name": "stdout",
     "output_type": "stream",
     "text": [
      "0.8\n",
      "0.8\n",
      "\n",
      "i-1: [0.8, 0.8]\n",
      "W: [[4.800000000000001, 0.6000000000000001], [1, -0.25649458802128855]] -1.8311740225021855\n",
      "F(x): [-1.2399999999999995, -0.14935886896179262]\n",
      "i: [1.0226269079365924, 1.085651403173928]\n",
      "max difference:  0.285651\n",
      "\n",
      "i-1: [1.0226269079365924, 1.085651403173928]\n",
      "W: [[6.135761447619554, 1.1713028063478559], [1, -0.24736562604774293]] -2.6890792781178723\n",
      "F(x): [0.23028494454745818, 0.0013274736186761338]\n",
      "i: [1.0008650158538799, 1.003043246209983]\n",
      "max difference:  0.082608\n",
      "\n",
      "i-1: [1.0008650158538799, 1.003043246209983]\n",
      "W: [[6.005190095123279, 1.006086492419966], [1, -0.24990495278726393]] -2.506813239620294\n",
      "F(x): [0.00824484743803966, 0.0001043489549170662]\n",
      "i: [1.000001205080282, 1.000004243540327]\n",
      "max difference:  0.003039\n",
      "\n",
      "i-1: [1.000001205080282, 1.000004243540327]\n",
      "W: [[6.0000072304816925, 1.0000084870806538], [1, -0.24999986738947028]] -2.5000094990369393\n",
      "F(x): [1.1474044383064097e-05, 1.441954815550872e-07]\n",
      "i: [1.000000000002349, 1.0000000000082703]\n",
      "max difference:  4e-06\n",
      "Answ by Newthon`s method:  [1.000000000002349, 1.0000000000082703] 4\n"
     ]
    }
   ],
   "source": [
    "#Newthon`s method\n",
    "#only for matrix(systems) 2x2 problem(A^-1)\n",
    "\n",
    "import numpy as np\n",
    "\n",
    "a=[[-2,13],[6,1]]\n",
    "#print(np.linalg.det(a))\n",
    "\n",
    "B=[-3,-1]\n",
    "Tmp=[]\n",
    "X=[]\n",
    "Tmp.clear()\n",
    "X.clear()\n",
    "\n",
    "delta=10000\n",
    "eps=0.001\n",
    "stop=0\n",
    "devvi=[]\n",
    "\n",
    "for j in range(N):\n",
    "    Tmp.append(float(input()))\n",
    "    #X.append(0)\n",
    "    X.append(copy.deepcopy(Tmp[j]))\n",
    "\n",
    "while delta > eps:#\n",
    "    print()\n",
    "    devvi.clear()\n",
    "    stop+=1\n",
    "    if stop==50:\n",
    "        break\n",
    "    \n",
    "    print('i-1:',Tmp) \n",
    "    a=Matr_of_Fx(Tmp)\n",
    "    print('W:',a,np.linalg.det(a))\n",
    "    a=np.linalg.inv(a)\n",
    "    #print('W^-1:',a)\n",
    "    \n",
    "    prod=[]\n",
    "    prod=F1_F2(Tmp)\n",
    "    print('F(x):',prod)\n",
    "    for i in range(N):\n",
    "        box=0\n",
    "        for j in range(N):\n",
    "            box+=a[i][j]*prod[j]\n",
    "        \n",
    "        X[i]=Tmp[i]-copy.deepcopy(box)\n",
    "    \n",
    "    print('i:',X)        \n",
    "    prod.clear()\n",
    "        \n",
    "    for i in range(N):\n",
    "        devvi.append(X[i]-Tmp[i])\n",
    "    delta=round(abs(max(devvi,key=abs)),6)\n",
    "    print('max difference: ',delta)\n",
    "    \n",
    "    for i in range(N):\n",
    "        Tmp[i]=copy.deepcopy(X[i])\n",
    "        \n",
    "#print('last delta=',delta,' while epsilon is: ',eps)\n",
    "print('Answ by Newthon`s method: ',X,stop)\n"
   ]
  },
  {
   "cell_type": "code",
   "execution_count": 56,
   "metadata": {},
   "outputs": [
    {
     "name": "stdout",
     "output_type": "stream",
     "text": [
      "[[-0.0125  0.1625]\n",
      " [ 0.075   0.025 ]] <class 'numpy.ndarray'>\n",
      "[[-0.0125  0.1625]\n",
      " [ 0.075   0.025 ]] <class 'numpy.ndarray'>\n"
     ]
    }
   ],
   "source": [
    "\n",
    "b=np.linalg.inv(a)\n",
    "print(b,type(b))\n",
    "b[1][1]\n",
    "#or i in len(b):\n",
    "bb=[[],[]]\n",
    "bb=b\n",
    "print(bb,type(bb))"
   ]
  }
 ],
 "metadata": {
  "kernelspec": {
   "display_name": "Python 3",
   "language": "python",
   "name": "python3"
  },
  "language_info": {
   "codemirror_mode": {
    "name": "ipython",
    "version": 3
   },
   "file_extension": ".py",
   "mimetype": "text/x-python",
   "name": "python",
   "nbconvert_exporter": "python",
   "pygments_lexer": "ipython3",
   "version": "3.6.3"
  }
 },
 "nbformat": 4,
 "nbformat_minor": 2
}
