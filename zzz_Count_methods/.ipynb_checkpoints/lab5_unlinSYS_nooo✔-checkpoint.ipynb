{
 "cells": [
  {
   "cell_type": "code",
   "execution_count": 1,
   "metadata": {},
   "outputs": [
    {
     "name": "stdout",
     "output_type": "stream",
     "text": [
      "2\n"
     ]
    }
   ],
   "source": [
    "#variant 5✔\n",
    "\n",
    "#3X1**2 -X2 +X2**2 -3=0\n",
    "#X1 -(X2+3)**1/2 +1=0\n",
    "\n",
    "#выразим переменные\n",
    "#X2=3X1**2+X2**2 -3\n",
    "#X1 =(X2+3)**1/2 -1\n",
    "\n",
    "#X1 =(X2+3)**1/2 -1\n",
    "#X2=sqrt(X2-3X1**2 +3)\n",
    "\n",
    "N=int(input()) #2\n",
    "\n",
    "#A=[[3],[3]]\n",
    "#b=[-3,-1]"
   ]
  },
  {
   "cell_type": "code",
   "execution_count": 2,
   "metadata": {
    "collapsed": true
   },
   "outputs": [],
   "source": [
    "#def F_X1(x1,x2,tmp):tmp[0]=x1 tmp[1]=x2\n",
    "def F_X1(x1,x2):\n",
    "    \n",
    "    if x2+3<0:\n",
    "        print('it`s going wrong (sqrt(-number),where number>0)')\n",
    "        x_1=(x2+3)**0.5 - 1\n",
    "    else:\n",
    "        x_1=(x2+3)**0.5 - 1\n",
    "    return x_1"
   ]
  },
  {
   "cell_type": "code",
   "execution_count": 3,
   "metadata": {
    "collapsed": true
   },
   "outputs": [],
   "source": [
    "def F_X2(x1,x2):\n",
    "    x_2=(x2 - 3*x1**2 + 3)**0.5\n",
    "    return x_2"
   ]
  },
  {
   "cell_type": "code",
   "execution_count": 20,
   "metadata": {},
   "outputs": [
    {
     "name": "stdout",
     "output_type": "stream",
     "text": [
      "0.6\n",
      "0.6\n",
      "Answ by simple iterations:  [0.9959864944614791, 0.9795218488640188] 29\n"
     ]
    }
   ],
   "source": [
    "import copy\n",
    "#AAA=copy.deepcopy(A)\n",
    "\n",
    "B=[-3,-1]\n",
    "Tmp=[]\n",
    "X=[]\n",
    "Tmp.clear()\n",
    "X.clear()\n",
    "\n",
    "delta=10000\n",
    "eps=0.01\n",
    "stop=0\n",
    "devvi=[]\n",
    "\n",
    "for j in range(N):\n",
    "    Tmp.append(float(input()))# x1=0 x2=0\n",
    "    X.append(0)#x1=0 x2=0\n",
    "\n",
    "while delta >= eps:#сходится при начальном приближении = 0.9\n",
    "    #print()\n",
    "    devvi.clear()\n",
    "    stop+=1\n",
    "    if stop==100:\n",
    "        break\n",
    "              \n",
    "    for i in range(N):\n",
    "        box=0\n",
    "\n",
    "        if i == 0:\n",
    "            box+=F_X1(Tmp[0],Tmp[1])\n",
    "        else:\n",
    "            box+=F_X2(Tmp[0],Tmp[1])\n",
    "        \n",
    "\n",
    "        X[i]=copy.deepcopy(box)\n",
    "        \n",
    "    #print(X)\n",
    "     \n",
    "    for i in range(N):\n",
    "        devvi.append(X[i]-Tmp[i])\n",
    "    delta=round(abs(max(devvi,key=abs)),6)\n",
    "    #print('max difference: ',delta)\n",
    "    \n",
    "    for i in range(N):\n",
    "        Tmp[i]=copy.deepcopy(X[i])\n",
    "    #print(Tmp)\n",
    "        \n",
    "#print('last delta=',delta,' while epsilon is: ',eps)\n",
    "print('Answ by simple iterations: ',X,stop)\n"
   ]
  },
  {
   "cell_type": "code",
   "execution_count": 21,
   "metadata": {},
   "outputs": [
    {
     "name": "stdout",
     "output_type": "stream",
     "text": [
      "0.6\n",
      "0.6\n",
      "Answ by Ziedel`s method:  [1.0000880441019002, 0.9999119442694299] 6\n"
     ]
    }
   ],
   "source": [
    "#Ziedel`s method\n",
    "\n",
    "B=[-3,-1]\n",
    "Tmp=[]\n",
    "X=[]\n",
    "Tmp.clear()\n",
    "X.clear()\n",
    "\n",
    "delta=10000\n",
    "eps=0.001\n",
    "stop=0\n",
    "devvi=[]\n",
    "\n",
    "for j in range(N):\n",
    "    Tmp.append(float(input()))\n",
    "    #X.append(0)\n",
    "    X.append(copy.deepcopy(Tmp[j]))\n",
    "\n",
    "while delta > eps:#сходится при нулевом начальном приближении\n",
    "    #print()\n",
    "    devvi.clear()\n",
    "    stop+=1\n",
    "    if stop==50:\n",
    "        break\n",
    "        \n",
    "    for i in range(N):\n",
    "        box=0\n",
    "        \n",
    "        if i == 0:\n",
    "            box+=F_X1(X[0],X[1])\n",
    "        else:\n",
    "            box+=F_X2(X[0],X[1])\n",
    "        \n",
    "        #print(box)\n",
    "        X[i]=copy.deepcopy(box)\n",
    "        \n",
    "        \n",
    "    #print('n-1:',Tmp)\n",
    "    #print('n:',X)\n",
    "        \n",
    "    for i in range(N):\n",
    "        devvi.append(X[i]-Tmp[i])\n",
    "    delta=round(abs(max(devvi,key=abs)),6)\n",
    "    #print('max difference: ',delta)\n",
    "    \n",
    "    for i in range(N):\n",
    "        Tmp[i]=copy.deepcopy(X[i])\n",
    "        \n",
    "#print('last delta=',delta,' while epsilon is: ',eps)\n",
    "print('Answ by Ziedel`s method: ',X,stop)"
   ]
  },
  {
   "cell_type": "code",
   "execution_count": 12,
   "metadata": {
    "collapsed": true
   },
   "outputs": [],
   "source": [
    "def Matr_of_Fx(x):#x=[x1,x2]\n",
    "    \n",
    "    a_obr=[[6*x[0],2*x[1]-1],[1,(-1)/(2*(x[1]+3)**0.5)]]\n",
    "    \n",
    "    return a_obr"
   ]
  },
  {
   "cell_type": "code",
   "execution_count": 13,
   "metadata": {
    "collapsed": true
   },
   "outputs": [],
   "source": [
    "def F1_F2(x_mass):#x=[x1,x2]\n",
    "    \n",
    "    F_str=[3*x_mass[0]**2 -x_mass[1] +x_mass[1]**2 -3, x_mass[0] -(x_mass[1]+3)**0.5 +1]\n",
    "    \n",
    "    return F_str"
   ]
  },
  {
   "cell_type": "code",
   "execution_count": 22,
   "metadata": {},
   "outputs": [
    {
     "name": "stdout",
     "output_type": "stream",
     "text": [
      "0.6\n",
      "0.6\n",
      "Answ by Newthon`s method:  [1.0000000000040565, 1.0000000000142824] 5\n"
     ]
    }
   ],
   "source": [
    "#Newthon`s method\n",
    "#only for matrix(systems) 2x2 problem(A^-1)\n",
    "\n",
    "import numpy as np\n",
    "\n",
    "a=[[-2,13],[6,1]]\n",
    "#print(np.linalg.det(a))\n",
    "\n",
    "B=[-3,-1]\n",
    "Tmp=[]\n",
    "X=[]\n",
    "Tmp.clear()\n",
    "X.clear()\n",
    "\n",
    "delta=10000\n",
    "eps=0.001\n",
    "stop=0\n",
    "devvi=[]\n",
    "\n",
    "for j in range(N):\n",
    "    Tmp.append(float(input()))\n",
    "    #X.append(0)\n",
    "    X.append(copy.deepcopy(Tmp[j]))\n",
    "\n",
    "while delta > eps:#\n",
    "    #print()\n",
    "    devvi.clear()\n",
    "    stop+=1\n",
    "    if stop==50:\n",
    "        break\n",
    "    \n",
    "    #print('n-1:',Tmp) \n",
    "    a=Matr_of_Fx(Tmp)\n",
    "    #print('W:',a,np.linalg.det(a))\n",
    "    a=np.linalg.inv(a)\n",
    "    #print('W^-1:',a)\n",
    "    \n",
    "    prod=[]\n",
    "    prod=F1_F2(Tmp)\n",
    "    #print('F(x):',prod)\n",
    "    for i in range(N):\n",
    "        box=0\n",
    "        for j in range(N):\n",
    "            box+=a[i][j]*prod[j]\n",
    "        \n",
    "        X[i]=Tmp[i]-copy.deepcopy(box)\n",
    "    \n",
    "    #print('n:',X)        \n",
    "    prod.clear()\n",
    "        \n",
    "    for i in range(N):\n",
    "        devvi.append(X[i]-Tmp[i])\n",
    "    delta=round(abs(max(devvi,key=abs)),6)\n",
    "    #print('max difference: ',delta)\n",
    "    \n",
    "    for i in range(N):\n",
    "        Tmp[i]=copy.deepcopy(X[i])\n",
    "        \n",
    "#print('last delta=',delta,' while epsilon is: ',eps)\n",
    "print('Answ by Newthon`s method: ',X,stop)\n"
   ]
  },
  {
   "cell_type": "code",
   "execution_count": 56,
   "metadata": {},
   "outputs": [
    {
     "name": "stdout",
     "output_type": "stream",
     "text": [
      "[[-0.0125  0.1625]\n",
      " [ 0.075   0.025 ]] <class 'numpy.ndarray'>\n",
      "[[-0.0125  0.1625]\n",
      " [ 0.075   0.025 ]] <class 'numpy.ndarray'>\n"
     ]
    }
   ],
   "source": [
    "b=np.linalg.inv(a)\n",
    "print(b,type(b))\n",
    "b[1][1]\n",
    "#or i in len(b):\n",
    "bb=[[],[]]\n",
    "bb=b\n",
    "print(bb,type(bb))"
   ]
  }
 ],
 "metadata": {
  "kernelspec": {
   "display_name": "Python 3",
   "language": "python",
   "name": "python3"
  },
  "language_info": {
   "codemirror_mode": {
    "name": "ipython",
    "version": 3
   },
   "file_extension": ".py",
   "mimetype": "text/x-python",
   "name": "python",
   "nbconvert_exporter": "python",
   "pygments_lexer": "ipython3",
   "version": "3.6.3"
  }
 },
 "nbformat": 4,
 "nbformat_minor": 2
}
