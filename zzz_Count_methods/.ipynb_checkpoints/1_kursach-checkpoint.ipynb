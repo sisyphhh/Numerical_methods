{
 "cells": [
  {
   "cell_type": "code",
   "execution_count": 22,
   "metadata": {
    "collapsed": true
   },
   "outputs": [],
   "source": [
    "#variant 13\n",
    "import numpy as np\n",
    "from matplotlib import pylab as plt\n",
    "from matplotlib import rcParams\n",
    "import copy\n",
    "a=1\n",
    "b=4\n",
    "h=0.5\n",
    "eps=0.001\n",
    "delta=0.000001 #10**(-6)\n",
    "#0.000001"
   ]
  },
  {
   "cell_type": "code",
   "execution_count": 23,
   "metadata": {
    "collapsed": true
   },
   "outputs": [],
   "source": [
    "#by hands\n",
    "def Function(x):\n",
    "    F=(1/4)*(np.log(x))*(np.log(x)) - 1\n",
    "    return F"
   ]
  },
  {
   "cell_type": "code",
   "execution_count": 24,
   "metadata": {
    "collapsed": true
   },
   "outputs": [],
   "source": [
    "def F_proizvod(xxx):\n",
    "    f=np.log(xxx)/(2*xxx)\n",
    "    return f"
   ]
  },
  {
   "cell_type": "code",
   "execution_count": 25,
   "metadata": {
    "collapsed": true
   },
   "outputs": [],
   "source": [
    "def Lagrange(xxx,yyy,param):\n",
    "    #print(xxx,yyy)\n",
    "    Lagr=[]\n",
    "    Summm=0\n",
    "    for i in range(len(xxx)):\n",
    "        Lagr.append(1)\n",
    "        \n",
    "        for j in range(len(xxx)):\n",
    "            if j == i:\n",
    "                continue\n",
    "            else:\n",
    "                box=copy.deepcopy(Lagr[i])\n",
    "                Lagr[i]=((param - xxx[j]) / (xxx[i] - xxx[j]))*box\n",
    "                #print(box,Lagr)\n",
    "        \n",
    "        Summm+=yyy[i]*Lagr[i] \n",
    "        \n",
    "    \n",
    "    return round(Summm,8)"
   ]
  },
  {
   "cell_type": "code",
   "execution_count": 26,
   "metadata": {
    "collapsed": true
   },
   "outputs": [],
   "source": [
    "def Lagr_proizvod(xxx):\n",
    "    #print('P_lagr in x ',Lagrange(massive_Xi,massive_Yi,xxx),'in x+delta',Lagrange(massive_Xi,massive_Yi,xxx+delta),' delta',delta)\n",
    "    f=(Lagrange(massive_Xi,massive_Yi,xxx+delta)-Lagrange(massive_Xi,massive_Yi,xxx))/delta\n",
    "    return round(f,8)"
   ]
  },
  {
   "cell_type": "code",
   "execution_count": 27,
   "metadata": {},
   "outputs": [
    {
     "name": "stdout",
     "output_type": "stream",
     "text": [
      "X 1 =  1 \t F(Xi)=  -1.0\n",
      "X 2 =  1.5 \t F(Xi)=  -0.9588995115267086\n",
      "X 3 =  2.0 \t F(Xi)=  -0.8798867465204496\n",
      "X 4 =  2.5 \t F(Xi)=  -0.7901028236703813\n",
      "X 5 =  3.0 \t F(Xi)=  -0.6982627597968545\n",
      "X 6 =  3.5 \t F(Xi)=  -0.6076462361916684\n",
      "X 7 =  4.0 \t F(Xi)=  -0.5195469860817986\n",
      "[1, 1.5, 2.0, 2.5, 3.0, 3.5, 4.0]\n",
      "[-1.0, -0.9588995115267086, -0.8798867465204496, -0.7901028236703813, -0.6982627597968545, -0.6076462361916684, -0.5195469860817986]\n",
      "-1.0  -0.95889951  -0.87988675  -0.79010282  -0.69826276  -0.60764624  -0.51954699  "
     ]
    }
   ],
   "source": [
    "#by hands:\n",
    "massive_Xi=[]\n",
    "massive_Yi=[]\n",
    "i=a\n",
    "n=1\n",
    "while i <= b:\n",
    "    massive_Yi.append(Function(i))\n",
    "    massive_Xi.append(i)\n",
    "    print('X',n,'= ',i,'\\t','F(Xi)= ',massive_Yi[n-1])\n",
    "    i+=h\n",
    "    n+=1\n",
    "\n",
    "print(massive_Xi)\n",
    "print(massive_Yi)\n",
    "for i in massive_Xi:\n",
    "    print(Lagrange(massive_Xi,massive_Yi,i),' ',end='')"
   ]
  },
  {
   "cell_type": "code",
   "execution_count": 28,
   "metadata": {},
   "outputs": [
    {
     "name": "stdout",
     "output_type": "stream",
     "text": [
      "301\n",
      "[0.01, 0.01, 0.02, 0.03, 0.03, 0.03, 0.03, 0.04, 0.04, 0.04, 0.05, 0.05, 0.05, 0.05, 0.05, 0.06, 0.07, 0.07, 0.07, 0.07, 0.08, 0.08, 0.08, 0.08, 0.08, 0.09, 0.09, 0.09, 0.1, 0.09, 0.1, 0.1, 0.1, 0.1, 0.11, 0.11, 0.11, 0.11, 0.12, 0.11, 0.12, 0.12, 0.13, 0.13, 0.13, 0.12, 0.13, 0.13, 0.13, 0.13, 0.13, 0.14, 0.14, 0.14, 0.14, 0.14, 0.14, 0.15, 0.15, 0.15, 0.14, 0.15, 0.14, 0.15, 0.15, 0.15, 0.16, 0.15, 0.16, 0.15, 0.15, 0.16, 0.16, 0.16, 0.16, 0.16, 0.16, 0.16, 0.16, 0.16, 0.16, 0.17, 0.16, 0.16, 0.16, 0.17, 0.17, 0.17, 0.17, 0.17, 0.17, 0.17, 0.17, 0.18, 0.17, 0.17, 0.17, 0.18, 0.17, 0.18, 0.18, 0.17, 0.17, 0.17, 0.17, 0.18, 0.17, 0.17, 0.18, 0.18, 0.18, 0.18, 0.18, 0.17, 0.18, 0.18, 0.18, 0.18, 0.18, 0.18, 0.18, 0.18, 0.18, 0.18, 0.18, 0.18, 0.18, 0.18, 0.18, 0.18, 0.18, 0.18, 0.18, 0.18, 0.18, 0.18, 0.18, 0.18, 0.18, 0.18, 0.18, 0.18, 0.18, 0.18, 0.18, 0.18, 0.18, 0.19, 0.19, 0.19, 0.18, 0.19, 0.19, 0.18, 0.18, 0.18, 0.19, 0.18, 0.18, 0.18, 0.18, 0.18, 0.18, 0.18, 0.18, 0.18, 0.18, 0.18, 0.18, 0.19, 0.18, 0.19, 0.18, 0.18, 0.18, 0.18, 0.19, 0.18, 0.18, 0.19, 0.18, 0.19, 0.18, 0.18, 0.18, 0.18, 0.19, 0.18, 0.18, 0.18, 0.19, 0.19, 0.18, 0.18, 0.19, 0.18, 0.19, 0.18, 0.19, 0.18, 0.18, 0.18, 0.19, 0.19, 0.18, 0.18, 0.18, 0.18, 0.18, 0.19, 0.18, 0.19, 0.19, 0.18, 0.18, 0.19, 0.18, 0.19, 0.18, 0.18, 0.19, 0.19, 0.19, 0.18, 0.18, 0.18, 0.18, 0.18, 0.18, 0.18, 0.18, 0.18, 0.18, 0.18, 0.18, 0.18, 0.18, 0.18, 0.18, 0.18, 0.18, 0.18, 0.18, 0.18, 0.18, 0.18, 0.18, 0.18, 0.18, 0.18, 0.18, 0.17, 0.18, 0.18, 0.18, 0.18, 0.17, 0.18, 0.18, 0.18, 0.18, 0.18, 0.17, 0.17, 0.18, 0.17, 0.17, 0.18, 0.17, 0.18, 0.18, 0.18, 0.18, 0.17, 0.18, 0.17, 0.17, 0.17, 0.17, 0.17, 0.17, 0.18, 0.17, 0.17, 0.18, 0.18, 0.18, 0.18, 0.17, 0.18, 0.18, 0.18, 0.17, 0.17, 0.17, 0.18, 0.17, 0.18, 0.18, 0.18, 0.18]\n",
      "x or [a,b]:  []\n",
      "y:  []\n",
      "Is there any roots?: 0\n"
     ]
    }
   ],
   "source": [
    "#Razbienie proizvodnyu by Lagr`s polinom \n",
    "\n",
    "x=[]\n",
    "x_extrem=[]\n",
    "y_extrem=[]\n",
    "y=[]\n",
    "\n",
    "x.clear()\n",
    "y.clear()\n",
    "\n",
    "flag=0\n",
    "i=0\n",
    "j=massive_Xi[0]\n",
    "step=0.01#h#\n",
    "stop=abs(massive_Xi[-1]-massive_Xi[0])/step\n",
    "\n",
    "while True:#перебираем интервал на наличие значения производной функции с условием что F`(Xi-1)>0 а F`(Xi)<0\n",
    "\n",
    "    if (i==0) or (i==1):\n",
    "        x.append(j)\n",
    "        y.append(Lagr_proizvod(j))\n",
    "        #y.append(F_proizvod(j))\n",
    "        i+=1\n",
    "        j+=step\n",
    "        continue\n",
    "    elif ((y[i-2]>0) and (y[i-1]<0)) or ((y[i-2]==0) and (y[i-1]<0)):#upgrade for (y[i-2]*y[i-1]<0:) F`(x) from (+) to (-) is maximum\n",
    "        flag=1\n",
    "        x_extrem.append([x[i-2],x[i-1]])\n",
    "        y_extrem.append([round(Lagr_proizvod(y[i-2]),5),round(Lagr_proizvod(y[i-1]),5)])\n",
    "        #y_extrem.append([round(F_proizvod(y[i-2]),5),round(F_proizvod(y[i-1]),5)])\n",
    "        #y_extrem.append(F_proizvod(y[i-1]))\n",
    "        #break\n",
    "    elif i==stop+1:\n",
    "        print(i)\n",
    "        break\n",
    "    else:\n",
    "        x.append(j)\n",
    "        y.append(Lagr_proizvod(j))\n",
    "        #y.append(F_proizvod(j))\n",
    "        j+=step\n",
    "        i+=1\n",
    "        continue\n",
    "    \n",
    "#print(x)\n",
    "print(y)\n",
    "\n",
    "print('x or [a,b]: ',x_extrem)\n",
    "print('y: ',y_extrem)\n",
    "print('Is there any roots?:',flag)"
   ]
  },
  {
   "cell_type": "code",
   "execution_count": 37,
   "metadata": {},
   "outputs": [
    {
     "name": "stdout",
     "output_type": "stream",
     "text": [
      "maximum is in: 4.0 -0.51954699\n"
     ]
    }
   ],
   "source": [
    "#method 1 half-deviding доделать для случая если больше 1 корня\n",
    "if flag:\n",
    "    x_1=[]\n",
    "    x_1.clear()\n",
    "    \n",
    "    counter=0\n",
    "    max_x=[]\n",
    "    max_y=[]\n",
    "    \n",
    "    for i in range(len(x_extrem)):#на Н промежутках (с эксремумами) мы будем искать приближ знач F`(x) к нулю\n",
    "        x_1.clear()\n",
    "        x_1.append(x_extrem[i][0])\n",
    "        x_1.append(x_extrem[i][1])\n",
    "        \n",
    "        while abs(x_1[1]-x_1[0])>eps:#методом половинного деления\n",
    "\n",
    "                x_finalle=(x_1[0]+x_1[1])/2\n",
    "                print(counter,x_finalle,x_1)\n",
    "                counter+=1\n",
    "\n",
    "                if Lagr_proizvod(x_1[0])*Lagr_proizvod(x_finalle)<0:\n",
    "                    x_1[0]=x_1[0]\n",
    "                    x_1[1]=x_finalle\n",
    "\n",
    "                x_finalle=(x_1[0]+x_1[1])/2\n",
    "\n",
    "                if Lagr_proizvod(x_1[0])*Lagr_proizvod(x_finalle)>0:\n",
    "                    x_1[0]=x_finalle\n",
    "                    x_1[1]=x_1[1]\n",
    "                #print(x_1)\n",
    "        \n",
    "        max_x.append(x_finalle)#тут мы добаляем приближ точку по икс и ее значение функции по игрек \n",
    "        max_y.append(Lagrange(massive_Xi,massive_Yi,x_finalle))\n",
    "    \n",
    "    #добавляем начало и конец отрезка для подстраховки на максимум\n",
    "    max_x.append(massive_Xi[0])\n",
    "    max_x.append(massive_Xi[-1])\n",
    "    max_y.append(Lagrange(massive_Xi,massive_Yi,massive_Xi[0]))\n",
    "    max_y.append(Lagrange(massive_Xi,massive_Yi,massive_Xi[-1]))\n",
    "    \n",
    "    ans=max_x.index(max(max_y))#после окончания цикла ищем где было макс значение функции в массиве максимумов-получаем его индекс\n",
    "    \n",
    "    print(max_x[ans])\n",
    "    print('in this dot: ',max_y[ans])\n",
    "else:\n",
    "    x_1=[]\n",
    "    x_1.clear()\n",
    "    x_1.append(massive_Xi[0])\n",
    "    x_1.append(massive_Xi[-1])\n",
    "    if Lagrange(massive_Xi,massive_Yi,x_1[0]) > Lagrange(massive_Xi,massive_Yi,x_1[0]):\n",
    "        x_finalle=x_1[0]\n",
    "        print('maximum is in:',x_finalle,Lagrange(massive_Xi,massive_Yi,x_finalle))#change function to interpole polinom in thi dot\n",
    "    else:\n",
    "        x_finalle=x_1[1]\n",
    "        print('maximum is in:',x_finalle,Lagrange(massive_Xi,massive_Yi,x_finalle))\n",
    "        #Function(x_finalle)"
   ]
  },
  {
   "cell_type": "code",
   "execution_count": 38,
   "metadata": {},
   "outputs": [
    {
     "data": {
      "image/png": "[encoded data removed]",
      "text/plain": [
       "<Figure size 660x440 with 1 Axes>"
      ]
     },
     "metadata": {},
     "output_type": "display_data"
    },
    {
     "data": {
      "image/png": "[encoded data removed]",
      "text/plain": [
       "<Figure size 660x440 with 1 Axes>"
      ]
     },
     "metadata": {},
     "output_type": "display_data"
    }
   ],
   "source": [
    "rcParams['figure.dpi']=110\n",
    "massive_Xi_2=[]\n",
    "massive_Fi_2=[]\n",
    "\n",
    "Larg_2=[]\n",
    "massive_Xi_3=[]\n",
    "\n",
    "i=0\n",
    "counter=a\n",
    "counter2=a\n",
    "while counter<b:\n",
    "    massive_Xi_2.append(counter)\n",
    "    massive_Fi_2.append(Function(massive_Xi_2[i]))\n",
    "    i+=1\n",
    "    counter+=0.01\n",
    "    \n",
    "while counter2<=b:\n",
    "    massive_Xi_3.append(counter2)\n",
    "    Larg_2.append(Lagrange(massive_Xi,massive_Yi,counter2))\n",
    "    counter2+=h\n",
    "    #print(i)\n",
    "    \n",
    "#print(massive_Xi_2)\n",
    "plt.plot(massive_Xi_2,massive_Fi_2,color='red')\n",
    "#plt.plot(massive_Xi_3,Larg_2,color='black')\n",
    "plt.grid(True)\n",
    "plt.show()\n",
    "\n",
    "plt.plot(massive_Xi_3,Larg_2,color='black')\n",
    "boxx1=[x_finalle,x_finalle]\n",
    "boxx2=[-1,-0.5]\n",
    "plt.plot(boxx1,boxx2,'--',color='red')\n",
    "plt.grid(True)\n",
    "plt.show()"
   ]
  },
  {
   "cell_type": "code",
   "execution_count": 58,
   "metadata": {},
   "outputs": [
    {
     "name": "stdout",
     "output_type": "stream",
     "text": [
      "[ 8.48122567e-04 -1.49138590e-02  1.09475151e-01 -4.32930062e-01\n",
      "  9.78419385e-01 -1.01786382e+00 -6.23034913e-01] \n",
      "\n",
      "0.0008481225668067507 * x^6\n",
      "-0.014913859009299328 * x^5\n",
      "0.1094751507886277 * x^4\n",
      "-0.43293006170628046 * x^3\n",
      "0.9784193853721246 * x^2\n",
      "-1.0178638249428258 * x^1\n",
      "-0.6230349130691478 * x^0\n"
     ]
    }
   ],
   "source": [
    "x = [1, 1.5, 2.0, 2.5, 3.0, 3.5, 4.0]\n",
    "y = [-1.0, -0.9588995115267086, -0.8798867465204496, -0.7901028236703813, -0.6982627597968545, -0.6076462361916684, -0.5195469860817986] \n",
    "a=np.polyfit(x, y,6)\n",
    "print(a,'\\n')\n",
    "#array([ 0.375     , -0.88690476,  1.05357143])\n",
    "county=len(a)-1\n",
    "for i in a:\n",
    "    print(i,\"* x^%s\"%county)\n",
    "    county-=1"
   ]
  },
  {
   "cell_type": "code",
   "execution_count": 21,
   "metadata": {},
   "outputs": [
    {
     "data": {
      "image/png": "[encoded data removed]",
      "text/plain": [
       "<Figure size 480x320 with 1 Axes>"
      ]
     },
     "metadata": {},
     "output_type": "display_data"
    }
   ],
   "source": [
    "import numpy as np\n",
    "import matplotlib.pyplot as plt\n",
    "rcParams['figure.dpi']=80\n",
    "x=np.array([1, 1.5, 2.0, 2.5, 3.0, 3.5, 4.0], dtype=float)\n",
    "y=np.array([-1.0, -0.9588995115267086, -0.8798867465204496, -0.7901028236703813, -0.6982627597968545, -0.6076462361916684, -0.5195469860817986], dtype=float)\n",
    "def lagranz(x,y,t):\n",
    "    z=0\n",
    "    for j in range(len(y)):\n",
    "     p1=1; p2=1\n",
    "     for i in range(len(x)):\n",
    "         if i==j:\n",
    "             p1=p1*1; p2=p2*1   \n",
    "         else: \n",
    "             p1=p1*(t-x[i])\n",
    "             p2=p2*(x[j]-x[i])\n",
    "     z=z+y[j]*p1/p2\n",
    "    return z\n",
    "xnew=np.linspace(np.min(x),np.max(x),7)#change paramets to 100 will good\n",
    "ynew=[lagranz(x,y,i) for i in xnew]\n",
    "plt.plot(x,y,'s',xnew,ynew)\n",
    "plt.grid(True)\n",
    "plt.show()"
   ]
  },
  {
   "cell_type": "code",
   "execution_count": 36,
   "metadata": {},
   "outputs": [
    {
     "ename": "SyntaxError",
     "evalue": "invalid syntax (<ipython-input-36-a9b7d5c4a0b5>, line 1)",
     "output_type": "error",
     "traceback": [
      "\u001b[1;36m  File \u001b[1;32m\"<ipython-input-36-a9b7d5c4a0b5>\"\u001b[1;36m, line \u001b[1;32m1\u001b[0m\n\u001b[1;33m    ------------------------------------------------------------------------------------------------------------------\u001b[0m\n\u001b[1;37m                                                                                                                      ^\u001b[0m\n\u001b[1;31mSyntaxError\u001b[0m\u001b[1;31m:\u001b[0m invalid syntax\n"
     ]
    }
   ],
   "source": [
    "------------------------------------------------------------------------------------------------------------------\n",
    "------------------------------------------------------------------------------------------------------------------\n",
    "------------------------------------------------------------------------------------------------------------------"
   ]
  },
  {
   "cell_type": "code",
   "execution_count": null,
   "metadata": {
    "collapsed": true
   },
   "outputs": [],
   "source": []
  },
  {
   "cell_type": "code",
   "execution_count": null,
   "metadata": {
    "collapsed": true
   },
   "outputs": [],
   "source": []
  },
  {
   "cell_type": "code",
   "execution_count": 53,
   "metadata": {},
   "outputs": [
    {
     "name": "stdout",
     "output_type": "stream",
     "text": [
      "301\n",
      "[0.0, 0.004925906362954501, 0.009707170243225358, 0.014348933126963314, 0.018856112092923715, 0.023233411509253354, 0.027485334020743313, 0.031616190875614424, 0.03563011163709648, 0.03953105332158367, 0.043322809001965876, 0.0470090159118211, 0.0505931630834836, 0.05407859855055278, 0.05746853614315973, 0.06076606190224296, 0.0639741401371868, 0.06709561914942944, 0.07013323664303962, 0.07308962484178072, 0.07596731533081448, 0.07876874363993795, 0.08149625358408415, 0.08415210137574237, 0.08673845952296196, 0.08925742052568396, 0.09171100038229633, 0.0941011419175197, 0.09642971794200232, 0.09869853425332592, 0.10090933248749663, 0.10306379282941233, 0.10516353659025744, 0.10721012865927164, 0.10920507983687319, 0.11114984905568083, 0.11304584549557382, 0.11489443059855245, 0.11669691998880923, 0.11845458530309372, 0.12016865593614753, 0.1218403207057011, 0.12347072944125687, 0.125060994500635, 0.1266121922180241, 0.12812536428706317, 0.12960151908227577, 0.13104163292198814, 0.13244665127568375, 0.13381748991857983, 0.13515503603605486, 0.1364601492804083, 0.13773366278229776, 0.13897638411906676, 0.14018909624205778, 0.14137255836488885, 0.142527506814566, 0.14365465584720283, 0.14475469843002392, 0.1458283069912391, 0.14687613413929243, 0.1478988133529105, 0.14889695964330027, 0.14987117018977641, 0.1508220249500327, 0.15175008724620892, 0.15265590432784698, 0.1535400079127736, 0.15440291470689518, 0.1552451269038409, 0.15606713266534428, 0.1568694065832072, 0.1576524101236517, 0.15841659205482303, 0.1591623888581718, 0.15989022512440654, 0.1606005139346763, 0.16129365722760958, 0.16197004615280727, 0.1626300614113586, 0.16327407358392199, 0.163902443446888, 0.16451552227711652, 0.16511365214571852, 0.16569716620133, 0.16626638894330636, 0.16682163648524465, 0.1673632168092234, 0.16789143001113244, 0.1684065685374474, 0.16890891741378816, 0.16939875446558605, 0.16987635053116934, 0.1703419696675633, 0.17079586934928787, 0.1712383006604245, 0.17166950848021073, 0.17208973166241048, 0.17249920320869797, 0.1728981504362817, 0.17328679513998635, 0.1736653537490011, 0.17403403747849341, 0.17439305247627981, 0.17474259996473654, 0.17508287637812606, 0.17541407349550722, 0.17573637856939073, 0.17604997445029483, 0.17635503970734917, 0.1766517487450898, 0.17694027191658174, 0.1772207756330002, 0.1774934224697966, 0.17775837126957006, 0.17801577724176074, 0.17826579205927626, 0.1785085639521585, 0.17874423779839388, 0.17897295521196557, 0.17919485462824314, 0.17941007138680115, 0.179618737811754, 0.17982098328969215, 0.18001693434530092, 0.18020671471473965, 0.1803904454168571, 0.18056824482231518, 0.18074022872069057, 0.1809065103856218, 0.181067200638066, 0.18122240790772765, 0.18137223829271942, 0.18151679561751263, 0.18165618148923282, 0.18179049535235473, 0.1819198345418471, 0.18204429433481842, 0.18216396800071072, 0.18227894685008764, 0.1823893202820624, 0.1824951758304073, 0.18259659920838733, 0.18269367435235734, 0.1827864834641619, 0.18287510705237453, 0.1829596239724128, 0.18304011146556384, 0.18311664519695373, 0.18318929929249314, 0.18325814637483093, 0.18332325759834506, 0.18338470268320073, 0.18344254994850367, 0.18349686634457577, 0.1835477174843793, 0.1835951676741154, 0.18363927994302104, 0.18368011607238874, 0.1837177366238313, 0.18375220096681466, 0.18378356730547926, 0.183811892704772, 0.1838372331159074, 0.1838596434011789, 0.18387917735813786, 0.18389588774315932, 0.18390982629441163, 0.18392104375424725, 0.18392958989103117, 0.18393551352042284, 0.1839388625261272, 0.18393968388012977, 0.18393802366243012, 0.1839339270802881, 0.18392743848699633, 0.1839186014001918, 0.18390745851971974, 0.18389405174506218, 0.18387842219234307, 0.18386061021092118, 0.18384065539958266, 0.1838185966223444, 0.18379447202387747, 0.18376831904456248, 0.1837401744351859, 0.183710074271287, 0.18367805396716552, 0.18364414828955813, 0.18360839137099327, 0.18357081672283254, 0.18353145724800715, 0.18349034525345734, 0.18344751246228266, 0.18340299002561067, 0.18335680853419137, 0.18330899802972458, 0.1832595880159274, 0.18320860746934794, 0.1831560848499324, 0.18310204811135172, 0.18304652471109387, 0.18298954162032766, 0.1829311253335443, 0.1828713018779821, 0.18281009682283952, 0.1827475352882827, 0.18268364195425188, 0.1826184410690721, 0.182551956457873, 0.1824842115308228, 0.18241522929118067, 0.1823450323431718, 0.18227364289969056, 0.1822010827898349, 0.18212737346627664, 0.18205253601247182, 0.18197659114971457, 0.18189955924403878, 0.1818214603129709, 0.18174231403213784, 0.18166213974173298, 0.18158095645284444, 0.18149878285364807, 0.18141563731546903, 0.181331537898715, 0.1812465023586837, 0.18116054815124827, 0.18107369243842286, 0.18098595209381188, 0.18089734370794486, 0.18080788359350047, 0.18071758779042152, 0.18062647207092403, 0.18053455194440282, 0.18044184266223534, 0.18034835922248732, 0.1802541163745211, 0.18015912862351027, 0.18006341023486147, 0.1799669752385467, 0.17986983743334714, 0.17977201039101107, 0.17967350746032806, 0.1795743417711205, 0.17947452623815516, 0.17937407356497617, 0.17927299624766138, 0.17917130657850364, 0.17906901664961863, 0.17896613835648148, 0.17886268340139272, 0.17875866329687615, 0.17865408936900962, 0.17854897276069004, 0.17844332443483477, 0.17833715517751988, 0.17823047560105743, 0.17812329614701278, 0.17801562708916296, 0.17790747853639818, 0.17779886043556678, 0.17768978257426551, 0.17758025458357604, 0.1774702859407489, 0.17735988597183602, 0.17724906385427291, 0.17713782861941169, 0.1770261891550058, 0.17691415420764753, 0.17680173238515967, 0.17668893215894163, 0.17657576186627125, 0.17646222971256398, 0.1763483437735887, 0.176234111997643, 0.17611954220768702, 0.176004642103438, 0.17588941926342588, 0.1757738811470103, 0.17565803509636096, 0.17554188833840065, 0.175425447986713, 0.1753087210434149, 0.17519171440099465, 0.17507443484411642, 0.1749568890513916, 0.17483908359711808, 0.17472102495298786, 0.1746027194897633, 0.17448417347892364, 0.1743653930942811, 0.1742463844135682, 0.17412715341999666, 0.1740077060037876, 0.17388804796367524, 0.17376818500838295, 0.17364812275807343, 0.17352786674577264, 0.17340742241876894, 0.17328679513998682]\n",
      "x or [a,b]:  []\n",
      "y:  []\n",
      "Is there any roots?: 0\n"
     ]
    }
   ],
   "source": [
    "#Razbienie old ()here we use function proizvodnyu\n",
    "x=[]\n",
    "x_extrem=[]\n",
    "y_extrem=[]\n",
    "y=[]\n",
    "\n",
    "x.clear()\n",
    "y.clear()\n",
    "\n",
    "flag=0\n",
    "i=0\n",
    "j=massive_Xi[0]\n",
    "step=0.01#h#\n",
    "stop=abs(massive_Xi[-1]-massive_Xi[0])/step\n",
    "\n",
    "while True:#перебираем интервал на наличие значения производной функции с условием что F`(Xi-1)>0 а F`(Xi)<0\n",
    "\n",
    "    if (i==0) or (i==1):\n",
    "        x.append(j)\n",
    "        y.append(F_proizvod(j))\n",
    "        i+=1\n",
    "        j+=step\n",
    "        continue\n",
    "    elif ((y[i-2]>0) and (y[i-1]<0)) or ((y[i-2]==0) and (y[i-1]<0)):#upgrade for (y[i-2]*y[i-1]<0:) F`(x) from (+) to (-) is maximum\n",
    "        flag=1\n",
    "        x_extrem.append([x[i-2],x[i-1]])\n",
    "        y_extrem.append([round(F_proizvod(y[i-2]),5),round(F_proizvod(y[i-1]),5)])\n",
    "        #y_extrem.append(F_proizvod(y[i-1]))\n",
    "        #break\n",
    "    elif i==stop+1:\n",
    "        print(i)\n",
    "        break\n",
    "    else:\n",
    "        x.append(j)\n",
    "        y.append(F_proizvod(j))\n",
    "        j+=step\n",
    "        i+=1\n",
    "        continue\n",
    "    \n",
    "#print(x)\n",
    "print(y)\n",
    "\n",
    "print('x or [a,b]: ',x_extrem)\n",
    "print('y: ',y_extrem)\n",
    "print('Is there any roots?:',flag)"
   ]
  },
  {
   "cell_type": "code",
   "execution_count": 56,
   "metadata": {},
   "outputs": [
    {
     "name": "stdout",
     "output_type": "stream",
     "text": [
      "P_lagr in x  -0.999344 in x+delta -0.999343  delta 1e-05\n",
      "0.10000000000287555\n"
     ]
    }
   ],
   "source": [
    "print(Lagr_proizvod(1.04))"
   ]
  },
  {
   "cell_type": "code",
   "execution_count": null,
   "metadata": {
    "collapsed": true
   },
   "outputs": [],
   "source": [
    "#method 1 half-deviding доделать для случая если больше 1 корня odl var use real funck not polinom\n",
    "if flag:\n",
    "    x_1=[]\n",
    "    x_1.clear()\n",
    "    \n",
    "    counter=0\n",
    "    max_x=[]\n",
    "    max_y=[]\n",
    "    \n",
    "    for i in range(len(x_extrem)):#на Н промежутках (с эксремумами) мы будем искать приближ знач F`(x) к нулю\n",
    "        x_1.clear()\n",
    "        x_1.append(x_extrem[i][0])\n",
    "        x_1.append(x_extrem[i][1])\n",
    "        \n",
    "        while abs(x_1[1]-x_1[0])>eps:#методом половинного деления\n",
    "\n",
    "                x_finalle=(x_1[0]+x_1[1])/2\n",
    "                print(counter,x_finalle,x_1)\n",
    "                counter+=1\n",
    "\n",
    "                if F_proizvod(x_1[0])*F_proizvod(x_finalle)<0:\n",
    "                    x_1[0]=x_1[0]\n",
    "                    x_1[1]=x_finalle\n",
    "\n",
    "                x_finalle=(x_1[0]+x_1[1])/2\n",
    "\n",
    "                if F_proizvod(x_1[0])*F_proizvod(x_finalle)>0:\n",
    "                    x_1[0]=x_finalle\n",
    "                    x_1[1]=x_1[1]\n",
    "                #print(x_1)\n",
    "        \n",
    "        max_x.append(x_finalle)#тут мы добаляем приближ точку по икс и ее значение функции по игрек \n",
    "        max_y.append(F_proizvod(x_finalle))\n",
    "    \n",
    "    ans=max_x.index(max(max_y))#после окончания цикла ищем где было макс значение функции в массиве максимумов-получаем его индекс\n",
    "    \n",
    "    print(max_x[ans])\n",
    "    print('in this dot: ',max_y[ans])\n",
    "else:\n",
    "    x_1=[]\n",
    "    x_1.clear()\n",
    "    x_1.append(massive_Xi[0])\n",
    "    x_1.append(massive_Xi[-1])\n",
    "    if Function(x_1[0]) > Function(x_1[1]):\n",
    "        x_finalle=x_1[0]\n",
    "        print('maximum is in:',x_finalle,Lagrange(massive_Xi,massive_Yi,x_finalle))#change function to interpole polinom in thi dot\n",
    "    else:\n",
    "        x_finalle=x_1[1]\n",
    "        print('maximum is in:',x_finalle,Lagrange(massive_Xi,massive_Yi,x_finalle))\n",
    "        #Function(x_finalle)"
   ]
  },
  {
   "cell_type": "code",
   "execution_count": null,
   "metadata": {
    "collapsed": true
   },
   "outputs": [],
   "source": [
    "#old variant of razb\n",
    "#Razbienie\n",
    "x=[]\n",
    "x_extrem=[]\n",
    "y_extrem=[]\n",
    "y=[]\n",
    "flag=1\n",
    "i=0\n",
    "j=massive_Xi[0]\n",
    "step=0.01\n",
    "stop=abs(massive_Xi[-1]-massive_Xi[0])/step\n",
    "while True:\n",
    "    #print(x)\n",
    "    #print(y)\n",
    "    #print('i',i)\n",
    "    if (i==0) or (i==1):\n",
    "        x.append(j)\n",
    "        y.append(F_proizvod(j))\n",
    "        i+=1\n",
    "        j+=step\n",
    "        continue\n",
    "    elif (y[i-2]>0) and (y[i-1]<0):#upgrade for (y[i-2]*y[i-1]<0:) F`(x) from (+) to (-) is maximum\n",
    "        #x_extrem.append([x[i-2],x[i-1]])\n",
    "        #y_extrem.append([F_proizvod(y[i-2]),F_proizvod(y[i-1])])\n",
    "        #y_extrem.append(F_proizvod(y[i-1]))\n",
    "        break\n",
    "    elif i==stop+1:\n",
    "        flag=0\n",
    "        break\n",
    "    else:\n",
    "        x.append(j)\n",
    "        y.append(F_proizvod(j))\n",
    "        j+=step\n",
    "        i+=1\n",
    "        continue\n",
    "    \n",
    "#print(x)\n",
    "#print(y)\n",
    "\n",
    "indexes=[]#make interval\n",
    "for i in range(len(y)-1):\n",
    "    if y[i]*y[i+1]<0:\n",
    "        indexes.append(x[i:i+2])\n",
    "        indexes.append(y[i:i+2])\n",
    "    else:\n",
    "        continue       \n",
    "#print(indexes)\n",
    "print()\n",
    "if indexes!= []:\n",
    "    x=indexes[0]\n",
    "    y=indexes[1]\n",
    "    print('x or [a,b]: ',x)\n",
    "    print('y: ',y)\n",
    "print('Is there any roots?:',flag)\n"
   ]
  },
  {
   "cell_type": "code",
   "execution_count": null,
   "metadata": {
    "collapsed": true
   },
   "outputs": [],
   "source": [
    "#old variant\n",
    "#method 1 half-deviding доделать для случая если больше 1 корня\n",
    "if flag:\n",
    "    x_1=[]\n",
    "    x_1.clear()\n",
    "    for i in x:\n",
    "        x_1.append(i)\n",
    "\n",
    "    #x_1.append(massive_Xi[0])\n",
    "    #x_1.append(massive_Xi[-1])\n",
    "    tmp=[]\n",
    "    counter=0\n",
    "    while abs(x_1[1]-x_1[0])>eps:\n",
    "\n",
    "            x_finalle=(x_1[0]+x_1[1])/2\n",
    "            print(counter,x_finalle,x_1)\n",
    "            counter+=1\n",
    "\n",
    "            if F_proizvod(x_1[0])*F_proizvod(x_finalle)<0:\n",
    "                x_1[0]=x_1[0]\n",
    "                x_1[1]=x_finalle\n",
    "\n",
    "            x_finalle=(x_1[0]+x_1[1])/2\n",
    "\n",
    "            if F_proizvod(x_1[0])*F_proizvod(x_finalle)>0:\n",
    "                x_1[0]=x_finalle\n",
    "                x_1[1]=x_1[1]\n",
    "            #print(x_1)\n",
    "\n",
    "    print(x_finalle)\n",
    "    print('in this dot: ',F_proizvod(x_finalle))\n",
    "else:\n",
    "    x_1=[]\n",
    "    x_1.clear()\n",
    "    x_1.append(massive_Xi[0])\n",
    "    x_1.append(massive_Xi[-1])\n",
    "    if Function(x_1[0]) > Function(x_1[1]):\n",
    "        x_finalle=x_1[0]\n",
    "        print('maximum is in:',x_finalle,Function(x_finalle))#change function to interpole polinom in thi dot\n",
    "    else:\n",
    "        x_finalle=x_1[1]\n",
    "        print('maximum is in:',x_finalle,Function(x_finalle))"
   ]
  }
 ],
 "metadata": {
  "kernelspec": {
   "display_name": "Python 3",
   "language": "python",
   "name": "python3"
  },
  "language_info": {
   "codemirror_mode": {
    "name": "ipython",
    "version": 3
   },
   "file_extension": ".py",
   "mimetype": "text/x-python",
   "name": "python",
   "nbconvert_exporter": "python",
   "pygments_lexer": "ipython3",
   "version": "3.6.3"
  }
 },
 "nbformat": 4,
 "nbformat_minor": 2
}
