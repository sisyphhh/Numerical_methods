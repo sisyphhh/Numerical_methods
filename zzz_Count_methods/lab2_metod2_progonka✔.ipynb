{
 "cells": [
  {
   "cell_type": "code",
   "execution_count": 5,
   "metadata": {},
   "outputs": [
    {
     "name": "stdout",
     "output_type": "stream",
     "text": [
      "5\n",
      "Our matrix: [[-11, 9, 0, 0, 0, -158], [0, -8, -6, 0, 0, 66], [0, 6, 15, -2, 0, -45], [0, 0, 4, 6, -1, 24], [0, 0, 0, -7, -10, -1]]\n",
      "\n",
      "\n",
      "Pi and Qi: [[0.8181818181818182, 14.363636363636363], [-0.75, -8.25], [0.19047619047619047, 0.42857142857142855], [0.14788732394366197, 3.295774647887324], [0, -2.0]]\n",
      "\n",
      "\n",
      "Xi: [6.999999999999999, -9.0, 1.0, 3.0, -2.0]\n"
     ]
    },
    {
     "data": {
      "text/plain": [
       "'dl=[]\\nfor i in range(n):\\n    if abs(masdiag[i])>= (summa - abs(masdiag[i])):\\n        dl.append(masdiag[i])\\ndl.sort()    \\nprint(dl)'"
      ]
     },
     "execution_count": 5,
     "metadata": {},
     "output_type": "execute_result"
    }
   ],
   "source": [
    "n = int(input())\n",
    "\n",
    "mass2 = []\n",
    "Xi=[0 for i in range(n)]\n",
    "PQ=[]\n",
    "\n",
    "#matrix input\n",
    "#for i in range(n):\n",
    "  #a = [int(Aij) for Aij in input().split()]\n",
    "  #mass2.append(a)\n",
    "mass2 =[[-11, 9, 0, 0, 0, -158],[0, -8, -6, 0, 0, 66],[0, 6, 15, -2, 0, -45],[0, 0, 4, 6, -1, 24],[0, 0, 0, -7, -10, -1]]\n",
    "print('Our matrix:',mass2)\n",
    "\n",
    "#first 'go'\n",
    "indx1=0\n",
    "for i in range(n):\n",
    "  #print(PQ)\n",
    "    if i == 0:\n",
    "        p=(-mass2[0][1])/mass2[0][0]\n",
    "        q=(mass2[0][n])/mass2[0][0]\n",
    "        PQ.append([p,q])\n",
    "\n",
    "    elif 1<=i<n-1:\n",
    "        p=(-mass2[i][i+1])/(mass2[i][indx1] * PQ[i-1][0] + mass2[i][indx1+1])\n",
    "        q=(mass2[i][n]-mass2[i][indx1]*PQ[i-1][1])/(mass2[i][indx1] * PQ[i-1][0] + mass2[i][indx1+1]) \n",
    "        #PiQi[0]=p\n",
    "        #PiQi[1]=q\n",
    "        PQ.append([p,q])\n",
    "    \n",
    "        indx1+=1\n",
    "    else:#last line\n",
    "        p=0\n",
    "        q=(mass2[i][n]-mass2[i][indx1]*PQ[i-1][1])/(mass2[i][indx1] * PQ[i-1][0] + mass2[i][indx1+1]) \n",
    "        #PiQi[0]=p\n",
    "        #PiQi[1]=q\n",
    "        PQ.append([p,q])\n",
    "  #print(PQ)\n",
    "print('\\n')   \n",
    "print('Pi and Qi:',PQ)\n",
    "\n",
    "i=n-1\n",
    "while i >= 0:\n",
    "    if i==n-1:\n",
    "        Xi[i]=PQ[i][1]\n",
    "        i-=1\n",
    "    else:\n",
    "        Xi[i]=PQ[i][0]*Xi[i+1]+PQ[i][1]\n",
    "        i-=1\n",
    "print('\\n')\n",
    "print('Xi:',Xi)\n",
    "\n",
    "'''masdiag=[]\n",
    "for i in range(n):\n",
    "    masdiag.append(mass2[i][i])\n",
    "#print('diagonal:',masdiag)\n",
    "\n",
    "summa=0\n",
    "for i in range(n):\n",
    "    summa+=abs(masdiag[i])'''\n",
    "\n",
    "#for i in range(n):\n",
    "  #print(masdiag[i]/(summa-abs(masdiag[i])))\n",
    "\n",
    "'''dl=[]\n",
    "for i in range(n):\n",
    "    if abs(masdiag[i])>= (summa - abs(masdiag[i])):\n",
    "        dl.append(masdiag[i])\n",
    "dl.sort()    \n",
    "print(dl)'''"
   ]
  },
  {
   "cell_type": "code",
   "execution_count": 7,
   "metadata": {},
   "outputs": [],
   "source": [
    "dl=[]"
   ]
  },
  {
   "cell_type": "code",
   "execution_count": null,
   "metadata": {
    "collapsed": true
   },
   "outputs": [],
   "source": []
  }
 ],
 "metadata": {
  "kernelspec": {
   "display_name": "Python 3",
   "language": "python",
   "name": "python3"
  },
  "language_info": {
   "codemirror_mode": {
    "name": "ipython",
    "version": 3
   },
   "file_extension": ".py",
   "mimetype": "text/x-python",
   "name": "python",
   "nbconvert_exporter": "python",
   "pygments_lexer": "ipython3",
   "version": "3.6.3"
  }
 },
 "nbformat": 4,
 "nbformat_minor": 2
}
