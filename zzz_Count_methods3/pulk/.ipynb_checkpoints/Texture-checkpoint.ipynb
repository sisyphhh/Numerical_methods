{
 "cells": [
  {
   "cell_type": "code",
   "execution_count": 13,
   "metadata": {},
   "outputs": [
    {
     "name": "stdout",
     "output_type": "stream",
     "text": [
      "Hello\n"
     ]
    }
   ],
   "source": [
    "print(\"Hello\")"
   ]
  },
  {
   "cell_type": "code",
   "execution_count": 2,
   "metadata": {},
   "outputs": [],
   "source": [
    "#!/usr/bin/python\n",
    "import random\n",
    "from PIL import Image, ImageDraw\n",
    "image=Image.open('1.JPG')\n",
    "draw=ImageDraw.Draw(image)\n",
    "width=image.size[0]\n",
    "height=image.size[1]\n",
    "pix=image.load()\n",
    "for i in range(width):\n",
    "    for j in range(height):\n",
    "        a=pix[i,j][0]\n",
    "        b=pix[i,j][1]\n",
    "        c=pix[i,j][2]\n",
    "        S=(a+b+c)//3\n",
    "        draw.point((i,j),(S,S,S))\n",
    "image.show()  "
   ]
  },
  {
   "cell_type": "code",
   "execution_count": 4,
   "metadata": {},
   "outputs": [
    {
     "name": "stdout",
     "output_type": "stream",
     "text": [
      "0\n",
      "1\n",
      "2\n"
     ]
    }
   ],
   "source": [
    "for i in range (0,3):\n",
    "    print(i)"
   ]
  },
  {
   "cell_type": "code",
   "execution_count": 5,
   "metadata": {},
   "outputs": [],
   "source": [
    "#!/usr/bin/python\n",
    "import random\n",
    "from PIL import Image, ImageDraw\n",
    "image=Image.open('1.jpg')\n",
    "draw=ImageDraw.Draw(image)\n",
    "width=image.size[0]\n",
    "height=image.size[1]\n",
    "pix=image.load()\n",
    "for i in range(width):\n",
    "    for j in range(height):\n",
    "        a=pix[i,j][0]\n",
    "        b=pix[i,j][1]\n",
    "        c=pix[i,j][2]\n",
    "        S=(a+b+c)//3\n",
    "        x=S/255\n",
    "        y=x**(2/3)\n",
    "        y=int(255*y);\n",
    "        draw.point((i,j),(y,y,y))\n",
    "image.show()"
   ]
  },
  {
   "cell_type": "code",
   "execution_count": 6,
   "metadata": {},
   "outputs": [],
   "source": [
    "#!/usr/bin/python\n",
    "import random\n",
    "from PIL import Image, ImageDraw\n",
    "image=Image.open('1.jpg')\n",
    "draw=ImageDraw.Draw(image)\n",
    "width=image.size[0]\n",
    "height=image.size[1]\n",
    "pix=image.load()\n",
    "for i in range(width):\n",
    "    for j in range(height):\n",
    "        a=pix[i,j][0]\n",
    "        b=pix[i,j][1]\n",
    "        c=pix[i,j][2]\n",
    "        a=int(255*(a/255.)**(2/3))\n",
    "        b=int(255*(b/255.)**(2/3))\n",
    "        c=int(255*(c/255.)**(2/3))\n",
    "        #draw.point((i,j),(int(min(a*y,255)), int(min(b*y,255)), int(min(c*y,255))))\n",
    "        draw.point((i,j),(a,b,c))\n",
    "image.show()"
   ]
  },
  {
   "cell_type": "code",
   "execution_count": 8,
   "metadata": {},
   "outputs": [],
   "source": [
    "#!/usr/bin/python\n",
    "import random\n",
    "from PIL import Image, ImageDraw\n",
    "image=Image.open('1.jpg')\n",
    "draw=ImageDraw.Draw(image)\n",
    "width=image.size[0]\n",
    "height=image.size[1]\n",
    "pix=image.load()\n",
    "for i in range(width):\n",
    "    for j in range(height):\n",
    "        a=pix[i,j][0]\n",
    "        b=pix[i,j][1]\n",
    "        c=pix[i,j][2]\n",
    "        if i<width/2:\n",
    "            a=int(255*(a/255.)/3**(1/2))\n",
    "            b=int(255*(b/255.)/3**(1/2))\n",
    "            c=int(255*(c/255.)/3**(1/2))\n",
    "        else:\n",
    "            if i<3*width/4:\n",
    "                a=int(255*(a/255.)*4-10)\n",
    "                b=int(255*(b/255.)*4-10)\n",
    "                c=int(255*(c/255.)*4-10)\n",
    "            else: \n",
    "                a=int(255*(a/255.)/3**(1/2)+20)\n",
    "                b=int(255*(b/255.)/3**(1/2)+20)\n",
    "                c=int(255*(c/255.)/3**(1/2)+20)\n",
    "            \n",
    "                \n",
    "        #draw.point((i,j),(int(min(a*y,255)), int(min(b*y,255)), int(min(c*y,255))))\n",
    "        draw.point((i,j),(a,b,c))\n",
    "image.show()"
   ]
  },
  {
   "cell_type": "code",
   "execution_count": 15,
   "metadata": {},
   "outputs": [
    {
     "name": "stdout",
     "output_type": "stream",
     "text": [
      "1920   1080\n"
     ]
    },
    {
     "ename": "IndexError",
     "evalue": "image index out of range",
     "output_type": "error",
     "traceback": [
      "\u001b[1;31m---------------------------------------------------------------------------\u001b[0m",
      "\u001b[1;31mIndexError\u001b[0m                                Traceback (most recent call last)",
      "\u001b[1;32m<ipython-input-15-66d42fe4fac9>\u001b[0m in \u001b[0;36m<module>\u001b[1;34m()\u001b[0m\n\u001b[0;32m     10\u001b[0m \u001b[0mpix\u001b[0m\u001b[1;33m=\u001b[0m\u001b[0mimage\u001b[0m\u001b[1;33m.\u001b[0m\u001b[0mload\u001b[0m\u001b[1;33m(\u001b[0m\u001b[1;33m)\u001b[0m\u001b[1;33m\u001b[0m\u001b[1;33m\u001b[0m\u001b[0m\n\u001b[0;32m     11\u001b[0m \u001b[1;33m\u001b[0m\u001b[0m\n\u001b[1;32m---> 12\u001b[1;33m \u001b[0mprint\u001b[0m\u001b[1;33m(\u001b[0m\u001b[0mpix\u001b[0m\u001b[1;33m[\u001b[0m\u001b[1;36m2047\u001b[0m\u001b[1;33m,\u001b[0m\u001b[1;36m1\u001b[0m\u001b[1;33m]\u001b[0m\u001b[1;33m)\u001b[0m\u001b[1;33m\u001b[0m\u001b[1;33m\u001b[0m\u001b[0m\n\u001b[0m\u001b[0;32m     13\u001b[0m \u001b[0mpix1\u001b[0m\u001b[1;33m=\u001b[0m\u001b[0mlist\u001b[0m\u001b[1;33m(\u001b[0m\u001b[0mimage\u001b[0m\u001b[1;33m.\u001b[0m\u001b[0mgetdata\u001b[0m\u001b[1;33m(\u001b[0m\u001b[1;33m)\u001b[0m\u001b[1;33m)\u001b[0m\u001b[1;33m\u001b[0m\u001b[1;33m\u001b[0m\u001b[0m\n\u001b[0;32m     14\u001b[0m \u001b[0mprint\u001b[0m\u001b[1;33m(\u001b[0m\u001b[0mtype\u001b[0m\u001b[1;33m(\u001b[0m\u001b[0mpix1\u001b[0m\u001b[1;33m[\u001b[0m\u001b[1;36m1\u001b[0m\u001b[1;33m]\u001b[0m\u001b[1;33m)\u001b[0m\u001b[1;33m)\u001b[0m\u001b[1;33m\u001b[0m\u001b[1;33m\u001b[0m\u001b[0m\n",
      "\u001b[1;31mIndexError\u001b[0m: image index out of range"
     ]
    }
   ],
   "source": [
    "#!/usr/bin/python\n",
    "import random\n",
    "from PIL import Image, ImageDraw\n",
    "image=Image.open('1.JPG')\n",
    "##pix=list(image.getdata())\n",
    "draw=ImageDraw.Draw(image)\n",
    "width=image.size[0]\n",
    "height=image.size[1]\n",
    "print(width, ' ', height)\n",
    "pix=image.load()\n",
    "\n",
    "print(pix[2047,1])\n",
    "pix1=list(image.getdata())\n",
    "print(type(pix1[1]))\n",
    "print(pix1[1+1*width])\n",
    "#pix1[1+1*width]=(22, 33,44);\n",
    "print(pix1[1+1*width])\n",
    "#pix1=list(pix)\n",
    "#pix1[0,0][1]=1\n",
    "#sobol=[[1/8,0,-1/8],[2/8,0,-2/8],[1/8,0,-1/8]];\n",
    "#sobol=[[-1,0,1],[-2,0,2],[-1,0,1]]\n",
    "sobol=[[-1,-2,-1],[0,0,0],[1,2,1]]\n",
    "laplas=[[0,1,0],[1,-4,1],[0,1,0]]\n",
    "for i in range(width):\n",
    "    for j in range(height):\n",
    "        a=pix[i,j][0]\n",
    "        b=pix[i,j][1]\n",
    "        c=pix[i,j][2]\n",
    "        #pix1[i+j*width]=(a,0,c);\n",
    "        \n",
    "        S=(a+c+b)//3\n",
    "        pix1[i+j*width]=(S,S,S);\n",
    "\n",
    "        #draw.point((i,j),(S,S,S))\n",
    "#image.show()\n",
    "for i in range(width):\n",
    "    #print(i)\n",
    "    for j in range(height):\n",
    "        if (j!=0 and j<=(height-3)) and (i!=0 and i<=(width-3)):\n",
    "            S=0;\n",
    "            for k in range (0,3):\n",
    "                for l in range (0,3):\n",
    "                    #print((i-1+k), ' ',(j-1+l))\n",
    "                    #S=S+(pix1[(i-1+k)+width*(j-1+l)][1])\n",
    "                    S=S+(pix1[(i-1+k)+width*(j-1+l)][1])*sobol[k][l];\n",
    "            #print(S)\n",
    "            S=abs(S)%256\n",
    "            draw.point((i,j),(int(S),int(S),int(S)))\n",
    "        else:\n",
    "            S=pix1[i+j*width][0]\n",
    "            draw.point((i,j),(S,S,S))\n",
    "image.show()\n"
   ]
  },
  {
   "cell_type": "code",
   "execution_count": 14,
   "metadata": {},
   "outputs": [
    {
     "ename": "TypeError",
     "evalue": "'tuple' object does not support item assignment",
     "output_type": "error",
     "traceback": [
      "\u001b[1;31m---------------------------------------------------------------------------\u001b[0m",
      "\u001b[1;31mTypeError\u001b[0m                                 Traceback (most recent call last)",
      "\u001b[1;32m<ipython-input-14-5cfab70b9039>\u001b[0m in \u001b[0;36m<module>\u001b[1;34m()\u001b[0m\n\u001b[0;32m      3\u001b[0m \u001b[0mlistik\u001b[0m\u001b[1;33m=\u001b[0m\u001b[0mlist\u001b[0m\u001b[1;33m(\u001b[0m\u001b[0mimage\u001b[0m\u001b[1;33m.\u001b[0m\u001b[0mgetdata\u001b[0m\u001b[1;33m(\u001b[0m\u001b[1;33m)\u001b[0m\u001b[1;33m)\u001b[0m\u001b[1;33m\u001b[0m\u001b[1;33m\u001b[0m\u001b[0m\n\u001b[0;32m      4\u001b[0m \u001b[0mlen\u001b[0m\u001b[1;33m(\u001b[0m\u001b[0mlistik\u001b[0m\u001b[1;33m)\u001b[0m\u001b[1;33m\u001b[0m\u001b[1;33m\u001b[0m\u001b[0m\n\u001b[1;32m----> 5\u001b[1;33m \u001b[0mlistik\u001b[0m\u001b[1;33m[\u001b[0m\u001b[1;36m2047\u001b[0m\u001b[1;33m+\u001b[0m\u001b[1;36m2048\u001b[0m\u001b[1;33m]\u001b[0m\u001b[1;33m[\u001b[0m\u001b[1;36m1\u001b[0m\u001b[1;33m]\u001b[0m\u001b[1;33m=\u001b[0m\u001b[1;36m109\u001b[0m\u001b[1;33m;\u001b[0m\u001b[1;33m\u001b[0m\u001b[1;33m\u001b[0m\u001b[0m\n\u001b[0m\u001b[0;32m      6\u001b[0m \u001b[1;31m#list(image.getdata())\u001b[0m\u001b[1;33m\u001b[0m\u001b[1;33m\u001b[0m\u001b[1;33m\u001b[0m\u001b[0m\n",
      "\u001b[1;31mTypeError\u001b[0m: 'tuple' object does not support item assignment"
     ]
    }
   ],
   "source": [
    "from PIL import Image, ImageDraw\n",
    "image=Image.open('1.JPG')\n",
    "listik=list(image.getdata())\n",
    "len(listik)\n",
    "listik[2047+2048][1]=109;\n",
    "#list(image.getdata())"
   ]
  },
  {
   "cell_type": "code",
   "execution_count": 18,
   "metadata": {},
   "outputs": [
    {
     "data": {
      "text/plain": [
       "3145728"
      ]
     },
     "execution_count": 18,
     "metadata": {},
     "output_type": "execute_result"
    }
   ],
   "source": [
    "2048*1536\n"
   ]
  },
  {
   "cell_type": "code",
   "execution_count": null,
   "metadata": {},
   "outputs": [],
   "source": [
    "a=list()\n",
    "b=[1,2,3]\n",
    "a=b\n",
    "a[1]=22\n",
    "print(a)"
   ]
  },
  {
   "cell_type": "code",
   "execution_count": 85,
   "metadata": {},
   "outputs": [
    {
     "data": {
      "text/plain": [
       "0"
      ]
     },
     "execution_count": 85,
     "metadata": {},
     "output_type": "execute_result"
    }
   ],
   "source": [
    "sobol=[[1/8,0,-1/8],[2/8,0,-2/8],[1/8,0,-1/8]];\n",
    "sobol[1][1]"
   ]
  },
  {
   "cell_type": "code",
   "execution_count": 15,
   "metadata": {},
   "outputs": [
    {
     "data": {
      "text/plain": [
       "2"
      ]
     },
     "execution_count": 15,
     "metadata": {},
     "output_type": "execute_result"
    }
   ],
   "source": [
    "abs(-2)"
   ]
  },
  {
   "cell_type": "code",
   "execution_count": 16,
   "metadata": {},
   "outputs": [],
   "source": [
    "def Nuton(z0):\n",
    "    for i in range(30):\n",
    "        z=2/3*z0+1/3/z0**2;\n",
    "        z0=z\n",
    "    return z\n",
    "\n",
    "def check(z0):\n",
    "    if abs(z0)>10**4:\n",
    "        return 4;\n",
    "    q1=abs(z0-1)\n",
    "    q2=abs(complex(-1/2,1/2*3**(1/2))-z0)\n",
    "    q3=abs(complex(-1/2,-1/2*3**(1/2))-z0)\n",
    "    if q1<0.1:\n",
    "        return 1\n",
    "    if q2<0.1:\n",
    "        return 2\n",
    "    if q3<0.1:\n",
    "        return 3\n",
    "    return 5;\n",
    "    \n",
    "    \n",
    "    \n",
    "import random\n",
    "import cmath\n",
    "from PIL import Image, ImageDraw  \n",
    "image = Image.new(\"RGBA\", (1200,1200), (0,0,0,0))\n",
    "matrica=[[complex(20*(i/1201.-0.5),20*(j/1201.-0.5)) for i in range(1200)] for j in range(1200)]\n",
    "draw=ImageDraw.Draw(image)\n",
    "for i in range(1200):\n",
    "    for j in range(1200):\n",
    "        q=Nuton(matrica[j][i])\n",
    "        w=check(q)\n",
    "        if w==1:\n",
    "            draw.point((j,i),(255,0,0))\n",
    "        if w==2:\n",
    "            draw.point((j,i),(0,255,0))\n",
    "        if w==3:\n",
    "            draw.point((j,i),(0,0,255))\n",
    "        if w==4:\n",
    "            draw.point((j,i),(0,0,0))\n",
    "        if w==5:\n",
    "            draw.point((j,i),(255,255,255))\n",
    "        \n",
    "image.show()    \n"
   ]
  },
  {
   "cell_type": "code",
   "execution_count": 11,
   "metadata": {},
   "outputs": [
    {
     "ename": "NameError",
     "evalue": "name 'j' is not defined",
     "output_type": "error",
     "traceback": [
      "\u001b[1;31m---------------------------------------------------------------------------\u001b[0m",
      "\u001b[1;31mNameError\u001b[0m                                 Traceback (most recent call last)",
      "\u001b[1;32m<ipython-input-11-8224b667334d>\u001b[0m in \u001b[0;36m<module>\u001b[1;34m\u001b[0m\n\u001b[1;32m----> 1\u001b[1;33m \u001b[1;36m2\u001b[0m\u001b[1;33m+\u001b[0m\u001b[1;36m6\u001b[0m\u001b[1;33m*\u001b[0m\u001b[0mj\u001b[0m\u001b[1;33m\u001b[0m\u001b[1;33m\u001b[0m\u001b[0m\n\u001b[0m",
      "\u001b[1;31mNameError\u001b[0m: name 'j' is not defined"
     ]
    }
   ],
   "source": [
    "2+6*j"
   ]
  },
  {
   "cell_type": "code",
   "execution_count": 19,
   "metadata": {},
   "outputs": [
    {
     "data": {
      "text/plain": [
       "1.4142135623730951"
      ]
     },
     "execution_count": 19,
     "metadata": {},
     "output_type": "execute_result"
    }
   ],
   "source": [
    "import cmath\n",
    "a=complex(1,2)\n",
    "a.real\n",
    "a.imag\n",
    "b=complex(2,3)\n",
    "abs(a-b)"
   ]
  },
  {
   "cell_type": "code",
   "execution_count": 20,
   "metadata": {},
   "outputs": [
    {
     "data": {
      "text/plain": [
       "1.4142135623730951"
      ]
     },
     "execution_count": 20,
     "metadata": {},
     "output_type": "execute_result"
    }
   ],
   "source": [
    "2**(1/2)"
   ]
  },
  {
   "cell_type": "code",
   "execution_count": 17,
   "metadata": {},
   "outputs": [],
   "source": [
    "import random\n",
    "import math\n",
    "from PIL import Image, ImageDraw\n",
    "M=601\n",
    "N=601\n",
    "m=300\n",
    "n=300\n",
    "image = Image.new(\"RGBA\", (M,N), (0,0,0,0))\n",
    "draw=ImageDraw.Draw(image)\n",
    "for i in range(M):\n",
    "    for j in range(N):\n",
    "        r=math.sqrt((i-m)**2+(j-n)**2)\n",
    "        \n",
    "        #S=int(127*(math.sin(r)+1))\n",
    "        S=int(127*(math.sin(r/(3-r/200))+1))\n",
    "        draw.point((i,j),(S,S,S))\n",
    "        \n",
    "        \n",
    "image.show()\n",
    "image.save('pic.png')"
   ]
  },
  {
   "cell_type": "code",
   "execution_count": 21,
   "metadata": {},
   "outputs": [
    {
     "name": "stdout",
     "output_type": "stream",
     "text": [
      "601   601\n",
      "<class 'tuple'>\n",
      "(110, 110, 110, 255)\n",
      "(110, 110, 110, 255)\n"
     ]
    }
   ],
   "source": [
    "#!/usr/bin/python\n",
    "import random\n",
    "from PIL import Image, ImageDraw\n",
    "image=Image.open('pic.png')\n",
    "##pix=list(image.getdata())\n",
    "draw=ImageDraw.Draw(image)\n",
    "width=image.size[0]\n",
    "height=image.size[1]\n",
    "print(width, ' ', height)\n",
    "pix=image.load()\n",
    "\n",
    "\n",
    "pix1=list(image.getdata())\n",
    "print(type(pix1[1]))\n",
    "print(pix1[1+1*width])\n",
    "#pix1[1+1*width]=(22, 33,44);\n",
    "print(pix1[1+1*width])\n",
    "#pix1=list(pix)\n",
    "#pix1[0,0][1]=1\n",
    "#sobol=[[1/8,0,-1/8],[2/8,0,-2/8],[1/8,0,-1/8]];\n",
    "#sobol=[[-1,0,1],[-2,0,2],[-1,0,1]]\n",
    "#sobol=[[-1,-2,-1],[0,0,0],[1,2,1]]\n",
    "laplas=[[0,1,0],[1,-4,1],[0,1,0]]\n",
    "filter_1=[[1/9,1/9,1/9],[1/9,1/9,1/9],[1/9,1/9,1/9]]\n",
    "filter_2=[[1/16,2/16,1/16],[2/16,4/16,2/16],[1/16,2/16,1/16]]\n",
    "for i in range(width):\n",
    "    for j in range(height):\n",
    "        a=pix[i,j][0]\n",
    "        b=pix[i,j][1]\n",
    "        c=pix[i,j][2]\n",
    "        #pix1[i+j*width]=(a,0,c);\n",
    "        \n",
    "        S=(a+c+b)//3\n",
    "        pix1[i+j*width]=(S,S,S);\n",
    "\n",
    "        #draw.point((i,j),(S,S,S))\n",
    "#image.show()\n",
    "for i in range(width):\n",
    "    #print(i)\n",
    "    for j in range(height//2,height):\n",
    "        if (j!=0 and j<=(height-3)) and (i!=0 and i<=(width-3)):\n",
    "            S=0;\n",
    "            for k in range (0,3):\n",
    "                for l in range (0,3):\n",
    "                    #print((i-1+k), ' ',(j-1+l))\n",
    "                    #S=S+(pix1[(i-1+k)+width*(j-1+l)][1])\n",
    "                    S=S+(pix1[(i-1+k)+width*(j-1+l)][1])*filter_2[k][l];\n",
    "            #print(S)\n",
    "            S=abs(S)%256\n",
    "            draw.point((i,j),(int(S),int(S),int(S)))\n",
    "        else:\n",
    "            S=pix1[i+j*width][0]\n",
    "            draw.point((i,j),(S,S,S))\n",
    "image.show()\n"
   ]
  },
  {
   "cell_type": "code",
   "execution_count": 5,
   "metadata": {},
   "outputs": [
    {
     "ename": "TypeError",
     "evalue": "unsupported operand type(s) for /: 'list' and 'int'",
     "output_type": "error",
     "traceback": [
      "\u001b[1;31m---------------------------------------------------------------------------\u001b[0m",
      "\u001b[1;31mTypeError\u001b[0m                                 Traceback (most recent call last)",
      "\u001b[1;32m<ipython-input-5-8889d2a3d9e3>\u001b[0m in \u001b[0;36m<module>\u001b[1;34m\u001b[0m\n\u001b[0;32m      1\u001b[0m \u001b[0mfilter_1\u001b[0m\u001b[1;33m=\u001b[0m\u001b[1;33m[\u001b[0m\u001b[1;33m[\u001b[0m\u001b[1;36m1\u001b[0m\u001b[1;33m,\u001b[0m\u001b[1;36m1\u001b[0m\u001b[1;33m,\u001b[0m\u001b[1;36m1\u001b[0m\u001b[1;33m]\u001b[0m\u001b[1;33m,\u001b[0m\u001b[1;33m[\u001b[0m\u001b[1;36m1\u001b[0m\u001b[1;33m,\u001b[0m\u001b[1;36m1\u001b[0m\u001b[1;33m,\u001b[0m\u001b[1;36m1\u001b[0m\u001b[1;33m]\u001b[0m\u001b[1;33m,\u001b[0m\u001b[1;33m[\u001b[0m\u001b[1;36m1\u001b[0m\u001b[1;33m,\u001b[0m\u001b[1;36m1\u001b[0m\u001b[1;33m,\u001b[0m\u001b[1;36m1\u001b[0m\u001b[1;33m]\u001b[0m\u001b[1;33m]\u001b[0m\u001b[1;33m\u001b[0m\u001b[1;33m\u001b[0m\u001b[0m\n\u001b[1;32m----> 2\u001b[1;33m \u001b[0mprint\u001b[0m\u001b[1;33m(\u001b[0m\u001b[0mfilter_1\u001b[0m\u001b[1;33m/\u001b[0m\u001b[1;36m9\u001b[0m\u001b[1;33m)\u001b[0m\u001b[1;33m\u001b[0m\u001b[1;33m\u001b[0m\u001b[0m\n\u001b[0m",
      "\u001b[1;31mTypeError\u001b[0m: unsupported operand type(s) for /: 'list' and 'int'"
     ]
    }
   ],
   "source": [
    "filter_1=[[1,1,1],[1,1,1],[1,1,1]]\n",
    "print(filter_1/9)"
   ]
  },
  {
   "cell_type": "code",
   "execution_count": 10,
   "metadata": {},
   "outputs": [
    {
     "name": "stdout",
     "output_type": "stream",
     "text": [
      "1\n",
      "2\n"
     ]
    }
   ],
   "source": [
    "for i in range(1,3):\n",
    "    print(i)"
   ]
  },
  {
   "cell_type": "code",
   "execution_count": 22,
   "metadata": {},
   "outputs": [
    {
     "name": "stdout",
     "output_type": "stream",
     "text": [
      "601   601\n",
      "<class 'tuple'>\n",
      "(110, 110, 110, 255)\n",
      "(110, 110, 110, 255)\n"
     ]
    }
   ],
   "source": [
    "#!/usr/bin/python\n",
    "import random\n",
    "from PIL import Image, ImageDraw\n",
    "image=Image.open('pic.png')\n",
    "##pix=list(image.getdata())\n",
    "draw=ImageDraw.Draw(image)\n",
    "width=image.size[0]\n",
    "height=image.size[1]\n",
    "print(width, ' ', height)\n",
    "pix=image.load()\n",
    "\n",
    "\n",
    "pix1=list(image.getdata())\n",
    "print(type(pix1[1]))\n",
    "print(pix1[1+1*width])\n",
    "#pix1[1+1*width]=(22, 33,44);\n",
    "print(pix1[1+1*width])\n",
    "#pix1=list(pix)\n",
    "#pix1[0,0][1]=1\n",
    "#sobol=[[1/8,0,-1/8],[2/8,0,-2/8],[1/8,0,-1/8]];\n",
    "#sobol=[[-1,0,1],[-2,0,2],[-1,0,1]]\n",
    "#sobol=[[-1,-2,-1],[0,0,0],[1,2,1]]\n",
    "laplas=[[0,1,0],[1,-4,1],[0,1,0]]\n",
    "filter_1=[[1/25,1/25,1/25,1/25,1/25],[1/25,1/25,1/25,1/25,1/25],[1/25,1/25,1/25,1/25,1/25],[1/25,1/25,1/25,1/25,1/25],[1/25,1/25,1/25,1/25,1/25]]\n",
    "filter_2=[[1/256,4/256,6/256,4/256,1/256],[4/256,16/256,24/256,16/256,4/256],[6/256,24/256,36/256,24/256,6/256],[4/256,16/256,24/256,16/256,4/256],[1/256,4/256,6/256,4/256,1/256]]\n",
    "for i in range(width):\n",
    "    for j in range(height):\n",
    "        a=pix[i,j][0]\n",
    "        b=pix[i,j][1]\n",
    "        c=pix[i,j][2]\n",
    "        #pix1[i+j*width]=(a,0,c);\n",
    "        \n",
    "        S=(a+c+b)//3\n",
    "        pix1[i+j*width]=(S,S,S);\n",
    "\n",
    "        #draw.point((i,j),(S,S,S))\n",
    "#image.show()\n",
    "for i in range(width):\n",
    "    #print(i)\n",
    "    for j in range(height//2,height):\n",
    "        if (j!=0 and j<=(height-5)) and (i!=0 and i<=(width-5)):\n",
    "            S=0;\n",
    "            for k in range (0,5):\n",
    "                for l in range (0,5):\n",
    "                    #print((i-1+k), ' ',(j-1+l))\n",
    "                    #S=S+(pix1[(i-1+k)+width*(j-1+l)][1])\n",
    "                    S=S+(pix1[(i-1+k)+width*(j-1+l)][1])*filter_1[k][l];\n",
    "            #print(S)\n",
    "            S=abs(S)%256\n",
    "            draw.point((i,j),(int(S),int(S),int(S)))\n",
    "        else:\n",
    "            S=pix1[i+j*width][0]\n",
    "            draw.point((i,j),(S,S,S))\n",
    "image.show()\n"
   ]
  },
  {
   "cell_type": "code",
   "execution_count": 6,
   "metadata": {},
   "outputs": [
    {
     "name": "stdout",
     "output_type": "stream",
     "text": [
      "601   601\n",
      "<class 'tuple'>\n",
      "(110, 110, 110, 255)\n",
      "(110, 110, 110, 255)\n"
     ]
    }
   ],
   "source": [
    "#!/usr/bin/python\n",
    "import random\n",
    "from PIL import Image, ImageDraw\n",
    "image=Image.open('pic.png')\n",
    "##pix=list(image.getdata())\n",
    "draw=ImageDraw.Draw(image)\n",
    "width=image.size[0]\n",
    "height=image.size[1]\n",
    "print(width, ' ', height)\n",
    "pix=image.load()\n",
    "\n",
    "\n",
    "pix1=list(image.getdata())\n",
    "print(type(pix1[1]))\n",
    "print(pix1[1+1*width])\n",
    "#pix1[1+1*width]=(22, 33,44);\n",
    "print(pix1[1+1*width])\n",
    "#pix1=list(pix)\n",
    "#pix1[0,0][1]=1\n",
    "#sobol=[[1/8,0,-1/8],[2/8,0,-2/8],[1/8,0,-1/8]];\n",
    "#sobol=[[-1,0,1],[-2,0,2],[-1,0,1]]\n",
    "#sobol=[[-1,-2,-1],[0,0,0],[1,2,1]]\n",
    "laplas=[[0,1,0],[1,-4,1],[0,1,0]]\n",
    "#filter_1=[[1/9,1/9,1/9],[1/9,1/9,1/9],[1/9,1/9,1/9]]\n",
    "#filter_2=[[1/16,2/16,1/16],[2/16,4/16,2/16],[1/16,2/16,1/16]]\n",
    "#diff=[[-1,0,1],[0,0,0],[1,0,-1]]\n",
    "#diff=[[0,1,0],[0,0,0],[1,0,-1]]\n",
    "for i in range(width):\n",
    "    for j in range(height):\n",
    "        a=pix[i,j][0]\n",
    "        b=pix[i,j][1]\n",
    "        c=pix[i,j][2]\n",
    "        #pix1[i+j*width]=(a,0,c);\n",
    "        \n",
    "        S=(a+c+b)//3\n",
    "        pix1[i+j*width]=(S,S,S);\n",
    "\n",
    "        #draw.point((i,j),(S,S,S))\n",
    "#image.show()\n",
    "for i in range(width):\n",
    "    #print(i)\n",
    "    for j in range(height//2,height):\n",
    "        if (j!=0 and j<=(height-3)) and (i!=0 and i<=(width-3)):\n",
    "            S=0;\n",
    "            for k in range (0,3):\n",
    "                for l in range (0,3):\n",
    "                    #print((i-1+k), ' ',(j-1+l))\n",
    "                    #S=S+(pix1[(i-1+k)+width*(j-1+l)][1])\n",
    "                    S=S+(pix1[(i-1+k)+width*(j-1+l)][1])*laplas[k][l];\n",
    "            #print(S)\n",
    "            S=abs(S)%256\n",
    "            draw.point((i,j),(int(S),int(S),int(S)))\n",
    "        else:\n",
    "            S=pix1[i+j*width][0]\n",
    "            draw.point((i,j),(S,S,S))\n",
    "image.show()"
   ]
  },
  {
   "cell_type": "code",
   "execution_count": 1,
   "metadata": {},
   "outputs": [
    {
     "name": "stdout",
     "output_type": "stream",
     "text": [
      "601   601\n",
      "<class 'tuple'>\n",
      "(110, 110, 110, 255)\n",
      "(110, 110, 110, 255)\n"
     ]
    }
   ],
   "source": [
    "#!/usr/bin/python\n",
    "import matplotlib.pyplot as plt\n",
    "import random\n",
    "from PIL import Image, ImageDraw\n",
    "image=Image.open('pic.png')\n",
    "##pix=list(image.getdata())\n",
    "draw=ImageDraw.Draw(image)\n",
    "width=image.size[0]\n",
    "height=image.size[1]\n",
    "print(width, ' ', height)\n",
    "pix=image.load()\n",
    "\n",
    "\n",
    "pix1=list(image.getdata())\n",
    "print(type(pix1[1]))\n",
    "print(pix1[1+1*width])\n",
    "#pix1[1+1*width]=(22, 33,44);\n",
    "print(pix1[1+1*width])\n",
    "#pix1=list(pix)\n",
    "#pix1[0,0][1]=1\n",
    "#sobol=[[1/8,0,-1/8],[2/8,0,-2/8],[1/8,0,-1/8]];\n",
    "#sobol=[[-1,0,1],[-2,0,2],[-1,0,1]]\n",
    "sobol=[[-1,-2,-1],[0,0,0],[1,2,1]]\n",
    "#laplas=[[0,1,0],[1,-4,1],[0,1,0]]\n",
    "#filter_1=[[1/25,1/25,1/25,1/25,1/25],[1/25,1/25,1/25,1/25,1/25],[1/25,1/25,1/25,1/25,1/25],[1/25,1/25,1/25,1/25,1/25],[1/25,1/25,1/25,1/25,1/25]]\n",
    "#filter_2=[[1/256,4/256,6/256,4/256,1/256],[4/256,16/256,24/256,16/256,4/256],[6/256,24/256,36/256,24/256,6/256],[4/256,16/256,24/256,16/256,4/256],[1/256,4/256,6/256,4/256,1/256]]\n",
    "canny=[[2/159,4/159,5/159,4/159,2/159],[4/159,9/159,12/159,9/159,4/159],[5/159,12/159,15/159,12/159,5/159],[4/159,9/159,12/159,9/159,4/159],[2/159,4/159,5/159,4/159,2/159]]\n",
    "\n",
    "for i in range(width):\n",
    "    for j in range(height):\n",
    "        a=pix[i,j][0]\n",
    "        b=pix[i,j][1]\n",
    "        c=pix[i,j][2]\n",
    "        #pix1[i+j*width]=(a,0,c);\n",
    "        \n",
    "        S=(a+c+b)//3\n",
    "        pix1[i+j*width]=(S,S,S);\n",
    "\n",
    "        #draw.point((i,j),(S,S,S))\n",
    "#image.show()\n",
    "for i in range(width):\n",
    "    #print(i)\n",
    "    for j in range(height//2,height):\n",
    "        if (j!=0 and j<=(height-5)) and (i!=0 and i<=(width-5)):\n",
    "            S=0;\n",
    "            for k in range (0,5):\n",
    "                for l in range (0,5):\n",
    "                    #print((i-1+k), ' ',(j-1+l))\n",
    "                    #S=S+(pix1[(i-1+k)+width*(j-1+l)][1])\n",
    "                    S=S+(pix1[(i-1+k)+width*(j-1+l)][1])*canny[k][l];\n",
    "            #print(S)\n",
    "            S=abs(S)%256\n",
    "            draw.point((i,j),(int(S),int(S),int(S)))\n",
    "        else:\n",
    "            S=pix1[i+j*width][0]\n",
    "            draw.point((i,j),(S,S,S))\n",
    "\n",
    "image.save('pic_1.png')\n"
   ]
  },
  {
   "cell_type": "code",
   "execution_count": 9,
   "metadata": {},
   "outputs": [
    {
     "name": "stdout",
     "output_type": "stream",
     "text": [
      "601   601\n"
     ]
    }
   ],
   "source": [
    "#!/usr/bin/python\n",
    "import matplotlib.pyplot as plt\n",
    "import random\n",
    "from PIL import Image, ImageDraw\n",
    "image=Image.open('pic_1.png')\n",
    "##pix=list(image.getdata())\n",
    "draw=ImageDraw.Draw(image)\n",
    "width=image.size[0]\n",
    "height=image.size[1]\n",
    "print(width, ' ', height)\n",
    "pix=image.load()\n",
    "G_x=[[-1,0,1],[-1,0,1],[-1,0,1]]\n",
    "G_y=[[-1,-1,-1],[0,0,0],[1,1,1]]\n",
    "import numpy as np\n",
    "res_1=np.zeros((601,301))\n",
    "res_2=np.zeros((601,301))\n",
    "\n",
    "for i in range(width):\n",
    "    #print(i)\n",
    "    for j in range(height//2,height):\n",
    "        if (j!=0 and j<=(height-3)) and (i!=0 and i<=(width-3)):\n",
    "            S=0;\n",
    "            for k in range (0,3):\n",
    "                for l in range (0,3):\n",
    "                    #print((i-1+k), ' ',(j-1+l))\n",
    "                    #S=S+(pix1[(i-1+k)+width*(j-1+l)][1])\n",
    "                    S=S+(pix1[(i-1+k)+width*(j-1+l)][1])*G_x[k][l];\n",
    "            #print(S)\n",
    "            S=abs(S)%256\n",
    "            res_1[i,j-height//2]=int(S);\n",
    "            #draw.point((i,j),(int(S),int(S),int(S)))\n",
    "        else:\n",
    "            S=pix1[i+j*width][0]\n",
    "            res_1[i,j-height//2]=S;\n",
    "            #draw.point((i,j),(S,S,S))\n",
    "            \n",
    "for i in range(width):\n",
    "    #print(i)\n",
    "    for j in range(height//2,height):\n",
    "        if (j!=0 and j<=(height-3)) and (i!=0 and i<=(width-3)):\n",
    "            S=0;\n",
    "            for k in range (0,3):\n",
    "                for l in range (0,3):\n",
    "                    #print((i-1+k), ' ',(j-1+l))\n",
    "                    #S=S+(pix1[(i-1+k)+width*(j-1+l)][1])\n",
    "                    S=S+(pix1[(i-1+k)+width*(j-1+l)][1])*G_x[k][l];\n",
    "            #print(S)\n",
    "            S=abs(S)%256\n",
    "            res_1[i, j-height//2]=int(S);\n",
    "            #draw.point((i,j),(int(S),int(S),int(S)))\n",
    "        else:\n",
    "            S=pix1[i+j*width][0]\n",
    "            res_1[i, j-height//2]=S;\n",
    "            #draw.point((i,j),(S,S,S))\n",
    "\n",
    "            \n",
    "res=np.sqrt(res_1**2 +res_2**2)            \n",
    "            \n",
    "for i in range(width):\n",
    "    for j in range(height//2,height):\n",
    "        S=int(res[i,j-height//2])\n",
    "        draw.point((i,j),(S,S,S))\n",
    "\n",
    "image.show()\n"
   ]
  },
  {
   "cell_type": "code",
   "execution_count": null,
   "metadata": {},
   "outputs": [],
   "source": []
  }
 ],
 "metadata": {
  "kernelspec": {
   "display_name": "Python 3",
   "language": "python",
   "name": "python3"
  },
  "language_info": {
   "codemirror_mode": {
    "name": "ipython",
    "version": 3
   },
   "file_extension": ".py",
   "mimetype": "text/x-python",
   "name": "python",
   "nbconvert_exporter": "python",
   "pygments_lexer": "ipython3",
   "version": "3.6.9"
  }
 },
 "nbformat": 4,
 "nbformat_minor": 2
}
