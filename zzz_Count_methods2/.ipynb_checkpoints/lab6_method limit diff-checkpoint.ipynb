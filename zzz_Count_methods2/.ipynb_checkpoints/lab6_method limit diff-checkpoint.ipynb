{
 "cells": [
  {
   "cell_type": "code",
   "execution_count": 8,
   "metadata": {
    "collapsed": true
   },
   "outputs": [],
   "source": [
    "import numpy as np\n",
    "import math \n",
    "from matplotlib import pylab as plt\n",
    "from matplotlib import rcParams\n",
    "%matplotlib inline"
   ]
  },
  {
   "cell_type": "code",
   "execution_count": 9,
   "metadata": {
    "collapsed": true
   },
   "outputs": [],
   "source": [
    "def progonka(A_matr, B_matr):\n",
    "    #n = int(input())\n",
    "    n=100-1\n",
    "    \n",
    "    mass2 = []\n",
    "    Xi=[0 for i in range(n)]\n",
    "    PQ=[]\n",
    "\n",
    "    #matrix input\n",
    "    #for i in range(n):\n",
    "      #a = [int(Aij) for Aij in input().split()]\n",
    "      #mass2.append(a)\n",
    "    \n",
    "    for i in range(len(A_matr)):\n",
    "        mass2.append(list(np.append(A_matr[i],B_matr[i])))\n",
    "        \n",
    "    #mass2 =[[-11, 9, 0, 0, 0, -158],[0, -8, -6, 0, 0, 66],[0, 6, 15, -2, 0, -45],[0, 0, 4, 6, -1, 24],[0, 0, 0, -7, -10, -1]]\n",
    "    #print('Our matrix:',mass2)\n",
    "    #first 'go'\n",
    "    indx1=0\n",
    "    for i in range(n):\n",
    "      #print(PQ)\n",
    "        if i == 0:\n",
    "            p=(-mass2[0][1])/mass2[0][0]\n",
    "            q=(mass2[0][n])/mass2[0][0]\n",
    "            PQ.append([p,q])\n",
    "\n",
    "        elif 1<=i<n-1:\n",
    "            p=(-mass2[i][i+1])/(mass2[i][indx1] * PQ[i-1][0] + mass2[i][indx1+1])\n",
    "            q=(mass2[i][n]-mass2[i][indx1]*PQ[i-1][1])/(mass2[i][indx1] * PQ[i-1][0] + mass2[i][indx1+1]) \n",
    "            #PiQi[0]=p\n",
    "            #PiQi[1]=q\n",
    "            PQ.append([p,q])\n",
    "\n",
    "            indx1+=1\n",
    "        else:#last line\n",
    "            p=0\n",
    "            q=(mass2[i][n]-mass2[i][indx1]*PQ[i-1][1])/(mass2[i][indx1] * PQ[i-1][0] + mass2[i][indx1+1]) \n",
    "            #PiQi[0]=p\n",
    "            #PiQi[1]=q\n",
    "            PQ.append([p,q])\n",
    "      #print(PQ)\n",
    "    print('\\n')   \n",
    "    #print('Pi and Qi:',PQ)\n",
    "\n",
    "    i=n-1\n",
    "    while i >= 0:\n",
    "        if i==n-1:\n",
    "            Xi[i]=PQ[i][1]\n",
    "            i-=1\n",
    "        else:\n",
    "            Xi[i]=PQ[i][0]*Xi[i+1]+PQ[i][1]\n",
    "            i-=1\n",
    "    print('\\n')\n",
    "    #print('Xi:',Xi)\n",
    "\n",
    "    '''masdiag=[]\n",
    "    for i in range(n):\n",
    "        masdiag.append(mass2[i][i])\n",
    "    #print('diagonal:',masdiag)\n",
    "    summa=0\n",
    "    for i in range(n):\n",
    "        summa+=abs(masdiag[i])'''\n",
    "    #for i in range(n):\n",
    "      #print(masdiag[i]/(summa-abs(masdiag[i])))\n",
    "    '''dl=[]\n",
    "    for i in range(n):\n",
    "        if abs(masdiag[i])>= (summa - abs(masdiag[i])):\n",
    "            dl.append(masdiag[i])\n",
    "    dl.sort()    \n",
    "    print(dl)'''\n",
    "    return Xi"
   ]
  },
  {
   "cell_type": "markdown",
   "metadata": {},
   "source": [
    "## variant 5\n",
    "### xy'' - (2x + 1)y' + 2y=0\n",
    "### y'(0)=4 , y'(1) - 2y(1)=-4"
   ]
  },
  {
   "cell_type": "code",
   "execution_count": 10,
   "metadata": {
    "scrolled": false
   },
   "outputs": [
    {
     "name": "stdout",
     "output_type": "stream",
     "text": [
      "\n",
      "\n",
      "\n",
      "\n",
      "\n",
      " [ 1.98959148  2.0297312   2.07015033  2.1109971   2.15227933  2.19400642\n",
      "  2.23618738  2.27883216  2.32194987  2.36554973  2.40964209  2.45423637\n",
      "  2.49934322  2.54497168  2.59113436  2.63783968  2.6851006   2.73292751\n",
      "  2.78133323  2.83032849  2.87992384  2.9301324   2.98096776  3.03244171\n",
      "  3.08456552  3.13735467  3.19082161  3.24498084  3.29984476  3.35542937\n",
      "  3.41174705  3.4688127   3.52664307  3.58525308  3.64465876  3.7048768\n",
      "  3.76592442  3.82781505  3.89056565  3.95419656  4.01872365  4.08416569\n",
      "  4.15054033  4.21786806  4.28616783  4.35545684  4.42575894  4.49709176\n",
      "  4.56947482  4.64292999  4.71748116  4.79314974  4.86995908  4.94792948\n",
      "  5.02708816  5.10745921  5.1890634   5.27192834  5.35607803  5.44153818\n",
      "  5.52833611  5.6165007   5.70605706  5.79703166  5.88945826  5.98336654\n",
      "  6.07878145  6.17573556  6.27425671  6.37438032  6.47613698  6.57955884\n",
      "  6.68467924  6.791533    6.90015644  7.01058755  7.1228586   7.2370102\n",
      "  7.35307741  7.47110371  7.59112692  7.7131862   7.83732203  7.96357633\n",
      "  8.09199225  8.22261445  8.3554892   8.49065592  8.6281636   8.76806298\n",
      "  8.91039747  9.05522089  9.20257952  9.35253015  9.50512189  9.66040537\n",
      "  9.81843257  9.97926678 10.14296353 10.30957949 10.40783706] 101\n",
      "[0.0, 0.01, 0.02, 0.03, 0.04, 0.05, 0.06, 0.07, 0.08, 0.09, 0.1, 0.11, 0.12, 0.13, 0.14, 0.15, 0.16, 0.17, 0.18, 0.19, 0.2, 0.21, 0.22, 0.23, 0.24, 0.25, 0.26, 0.27, 0.28, 0.29, 0.3, 0.31, 0.32, 0.33, 0.34, 0.35, 0.36, 0.37, 0.38, 0.39, 0.4, 0.41, 0.42, 0.43, 0.44, 0.45, 0.46, 0.47, 0.48, 0.49, 0.5, 0.51, 0.52, 0.53, 0.54, 0.55, 0.56, 0.57, 0.58, 0.59, 0.6, 0.61, 0.62, 0.63, 0.64, 0.65, 0.66, 0.67, 0.68, 0.69, 0.7, 0.71, 0.72, 0.73, 0.74, 0.75, 0.76, 0.77, 0.78, 0.79, 0.8, 0.81, 0.82, 0.83, 0.84, 0.85, 0.86, 0.87, 0.88, 0.89, 0.9, 0.91, 0.92, 0.93, 0.94, 0.95, 0.96, 0.97, 0.98, 0.99, 1.0] 101\n"
     ]
    },
    {
     "data": {
      "image/png": "[encoded data removed]",
      "text/plain": [
       "<Figure size 648x432 with 1 Axes>"
      ]
     },
     "metadata": {},
     "output_type": "display_data"
    }
   ],
   "source": [
    "def q_i(x): \n",
    "    return 2/x\n",
    "\n",
    "def p_i(x): \n",
    "    return -(2*x + 1)/x\n",
    "\n",
    "def f_i(x): \n",
    "    return 0\n",
    "\n",
    "a=0\n",
    "b=1\n",
    "N=100\n",
    "h=(b-a)/N\n",
    "x_i=[round(i*h,4) for i in range(a*N,b*N)]\n",
    "x_i.append(b*N*h)\n",
    "x_i.pop(0)\n",
    "\n",
    "#print(x_i,'\\n')\n",
    "\n",
    "A_matr=np.zeros( (N-1, N-1) )\n",
    "B_matr=np.zeros( (N-1) )\n",
    "#print(B_matr,'\\n')\n",
    "\n",
    "#print(A_matr.shape)\n",
    "\n",
    "A_matr[0][0]=round(-2 + q_i(x_i[0])*(h**2) + (1-p_i(x_i[0])*h/2),6)\n",
    "A_matr[0][1]=round(1 + p_i(x_i[0])*h/2,6) \n",
    "B_matr[0]=round((1 - p_i(x_i[0])*h/2)*4*h,6)#почему еще на h доиножили?\n",
    "\n",
    "#print(A_matr[0])\n",
    "#print(B_matr[0])\n",
    "\n",
    "for i in range(1,N-2):\n",
    "    A_matr[i][i-1]=round((1 - p_i(x_i[i])*h/2),6)\n",
    "    A_matr[i][i]=round(-2 + q_i(x_i[i])*(h**2),6)\n",
    "    A_matr[i][i+1]=round((1 + p_i(x_i[i])*h/2),6)\n",
    "    #print(A_matr[i])\n",
    "    \n",
    "A_matr[N-2][N-3]=round(1 - p_i(x_i[N-2])*h/2,6)\n",
    "A_matr[N-2][N-2]=round(-2 + q_i(x_i[N-2])*(h**2) + (1+p_i(x_i[N-2])*h/2)/(-2*h+1),6)\n",
    "B_matr[N-2]=round(-4*h*(1 + p_i(x_i[N-2])*h/2)/(2*h-1),6)#почему еще на h доиножили?\n",
    "\n",
    "#print(A_matr[N-2])\n",
    "#print(B_matr[N-2])\n",
    "\n",
    "################################### before all is oke\n",
    "'''!!!!!!!!!!!!!!!!!!!!!!!!!!!!!!!!!!!!!!!!!!!!!!!!!!!!!!!!!!!!!!!!!!!!!!!!!!!!'''\n",
    "y=progonka(A_matr, B_matr)\n",
    "y=np.array(y)\n",
    "#print(y,y.shape[0])\n",
    "'''!!!!!!!!!!!!!!!!!!!!!!!!!!!!!!!!!!!!!!!!!!!!!!!!!!!!!!!!!!!!!!!!!!!!!!!!!!!!'''\n",
    "\n",
    "YYY=np.zeros( (y.shape[0]+2) )\n",
    "YYY[0]=-(8*h + y[1] - 4*y[0])/3#==1.98 must\n",
    "YYY[-1]=(8*h + y[N-3] - 4*y[N-2])/(2*h-3)#==10....\n",
    "\n",
    "#print('\\n',YYY,'\\n')\n",
    "\n",
    "for i in range(1,N):\n",
    "    YYY[i]=y[i-1]\n",
    "    \n",
    "print('\\n',YYY,YYY.shape[0])\n",
    "x_i=[round(i*h,4) for i in range(a*N,b*N)]\n",
    "x_i.append(b*N*h)\n",
    "\n",
    "print(x_i,len(x_i))\n",
    "\n",
    "#fig, ax = plt.subplots(figsize=(10,10))\n",
    "#rcParams['figure.dpi']=150\n",
    "fig = plt.figure(figsize=(9,6)) \n",
    "plt.plot(x_i,YYY,'-',color='red', linewidth=2,label='alal')\n",
    "#plt.scatter(x1,y1,color='red', linewidth=0.5)\n",
    "plt.legend()\n",
    "plt.grid(True)\n",
    "plt.show()\n",
    "\n",
    "YYY_str=[4]\n",
    "for i in range "
   ]
  },
  {
   "cell_type": "code",
   "execution_count": null,
   "metadata": {
    "collapsed": true
   },
   "outputs": [],
   "source": [
    "'''\n",
    "===========================================================================================================================\n",
    "'''"
   ]
  },
  {
   "cell_type": "code",
   "execution_count": 15,
   "metadata": {},
   "outputs": [
    {
     "name": "stdout",
     "output_type": "stream",
     "text": [
      "[0.01, 0.02, 0.03, 0.04, 0.05, 0.06, 0.07, 0.08, 0.09, 0.1, 0.11, 0.12, 0.13, 0.14, 0.15, 0.16, 0.17, 0.18, 0.19, 0.2, 0.21, 0.22, 0.23, 0.24, 0.25, 0.26, 0.27, 0.28, 0.29, 0.3, 0.31, 0.32, 0.33, 0.34, 0.35, 0.36, 0.37, 0.38, 0.39, 0.4, 0.41, 0.42, 0.43, 0.44, 0.45, 0.46, 0.47, 0.48, 0.49, 0.5, 0.51, 0.52, 0.53, 0.54, 0.55, 0.56, 0.57, 0.58, 0.59, 0.6, 0.61, 0.62, 0.63, 0.64, 0.65, 0.66, 0.67, 0.68, 0.69, 0.7, 0.71, 0.72, 0.73, 0.74, 0.75, 0.76, 0.77, 0.78, 0.79, 0.8, 0.81, 0.82, 0.83, 0.84, 0.85, 0.86, 0.87, 0.88, 0.89, 0.9, 0.91, 0.92, 0.93, 0.94, 0.95, 0.96, 0.97, 0.98, 0.99, 1.0] \n",
      "\n",
      "\n",
      "\n",
      "\n",
      "\n",
      "\n",
      " [ 2.00022015  2.04042431  2.08103679  2.12206565  2.1635185   2.2054045\n",
      "  2.24773241  2.29051196  2.33375201  2.37746152  2.42165059  2.46632838\n",
      "  2.51150526  2.55719002  2.60339498  2.65012827  2.69740256  2.74522797\n",
      "  2.79361699  2.84258007  2.89212742  2.94227185  2.99302665  3.04440323\n",
      "  3.09641255  3.14906974  3.20238691  3.25637817  3.31105558  3.36643474\n",
      "  3.42252767  3.47934886  3.53691468  3.59523964  3.65433934  3.71423007\n",
      "  3.77492861  3.83644795  3.89880458  3.96201841  4.02610485  4.09108216\n",
      "  4.15696753  4.22378094  4.29154085  4.36026393  4.4299735   4.50068666\n",
      "  4.57242239  4.64520198  4.71904877  4.79398358  4.87002916  4.94720522\n",
      "  5.02553835  5.105052    5.18576632  5.26770825  5.35090112  5.43536995\n",
      "  5.52114139  5.60824358  5.69670092  5.78653914  5.87779124  5.97048612\n",
      "  6.06464795  6.16030852  6.25749484  6.35624148  6.4565782   6.55853629\n",
      "  6.66214818  6.7674478   6.87447056  6.98325346  7.09382787  7.20623338\n",
      "  7.32050406  7.43668237  7.5548051   7.67491033  7.79703748  7.92122737\n",
      "  8.047522    8.1759649   8.30660114  8.439469    8.57461621  8.71209227\n",
      "  8.85193933  8.99420988  9.13894893  9.28621187  9.43604645  9.58850193\n",
      "  9.74362886  9.90148904 10.06213648 10.22562638 10.32227148] 101\n",
      "[0.0, 0.01, 0.02, 0.03, 0.04, 0.05, 0.06, 0.07, 0.08, 0.09, 0.1, 0.11, 0.12, 0.13, 0.14, 0.15, 0.16, 0.17, 0.18, 0.19, 0.2, 0.21, 0.22, 0.23, 0.24, 0.25, 0.26, 0.27, 0.28, 0.29, 0.3, 0.31, 0.32, 0.33, 0.34, 0.35, 0.36, 0.37, 0.38, 0.39, 0.4, 0.41, 0.42, 0.43, 0.44, 0.45, 0.46, 0.47, 0.48, 0.49, 0.5, 0.51, 0.52, 0.53, 0.54, 0.55, 0.56, 0.57, 0.58, 0.59, 0.6, 0.61, 0.62, 0.63, 0.64, 0.65, 0.66, 0.67, 0.68, 0.69, 0.7, 0.71, 0.72, 0.73, 0.74, 0.75, 0.76, 0.77, 0.78, 0.79, 0.8, 0.81, 0.82, 0.83, 0.84, 0.85, 0.86, 0.87, 0.88, 0.89, 0.9, 0.91, 0.92, 0.93, 0.94, 0.95, 0.96, 0.97, 0.98, 0.99, 1.0] 101\n"
     ]
    },
    {
     "data": {
      "image/png": "[encoded data removed]",
      "text/plain": [
       "<Figure size 648x432 with 1 Axes>"
      ]
     },
     "metadata": {},
     "output_type": "display_data"
    }
   ],
   "source": [
    "def q_i(x): \n",
    "    return 2/x\n",
    "\n",
    "def p_i(x): \n",
    "    return -(2*x + 1)/x\n",
    "\n",
    "def f_i(x): \n",
    "    return 0\n",
    "\n",
    "a=0\n",
    "b=1\n",
    "N=100\n",
    "h=(b-a)/N\n",
    "x_i=[round(i*h,4) for i in range(a*N,b*N)]\n",
    "x_i.append(b*N*h)\n",
    "x_i.pop(0)\n",
    "\n",
    "print(x_i,'\\n')\n",
    "\n",
    "A_matr=np.zeros( (N-1, N-1) )\n",
    "B_matr=np.zeros( (N-1) )\n",
    "#print(B_matr,'\\n')\n",
    "\n",
    "#print(A_matr.shape)\n",
    "\n",
    "A_matr[0][0]=round(-2 + q_i(x_i[0])*(h**2) + (1-p_i(x_i[0])*h/2)*4/3,6)\n",
    "A_matr[0][1]=round(1 + p_i(x_i[0])*h/2 - (1 - p_i(x_i[0])*h/2)/3,6) \n",
    "B_matr[0]=round((1 - p_i(x_i[0])*h/2)*8*h/3,6)#почему еще на h доиножили?\n",
    "\n",
    "#print(A_matr[0])\n",
    "#print(B_matr[0])\n",
    "\n",
    "for i in range(1,N-2):\n",
    "    A_matr[i][i-1]=round((1 - p_i(x_i[i])*h/2),6)\n",
    "    A_matr[i][i]=round(-2 + q_i(x_i[i])*(h**2),6)\n",
    "    A_matr[i][i+1]=round((1 + p_i(x_i[i])*h/2),6)\n",
    "    #print(A_matr[i])\n",
    "    \n",
    "A_matr[N-2][N-3]=round(1 - p_i(x_i[N-2])*h/2 + (1 + p_i(x_i[N-2])*h/2)/(4*h-3),6)\n",
    "A_matr[N-2][N-2]=round(-2 + q_i(x_i[N-2])*(h**2) - 4*(1+p_i(x_i[N-2])*h/2)/(4*h-3),6)\n",
    "B_matr[N-2]=round(-8*h*(1 + p_i(x_i[N-2])*h/2)/(4*h-3),6)#почему еще на h доиножили?\n",
    "\n",
    "#print(A_matr[N-2])\n",
    "#print(B_matr[N-2])\n",
    "\n",
    "################################### before all is oke\n",
    "'''!!!!!!!!!!!!!!!!!!!!!!!!!!!!!!!!!!!!!!!!!!!!!!!!!!!!!!!!!!!!!!!!!!!!!!!!!!!!'''\n",
    "y=progonka(A_matr, B_matr)\n",
    "y=np.array(y)\n",
    "#print(y,y.shape[0])\n",
    "'''!!!!!!!!!!!!!!!!!!!!!!!!!!!!!!!!!!!!!!!!!!!!!!!!!!!!!!!!!!!!!!!!!!!!!!!!!!!!'''\n",
    "\n",
    "YYY=np.zeros( (y.shape[0]+2) )\n",
    "YYY[0]=-(8*h + y[1] - 4*y[0])/3#==1.98 must\n",
    "YYY[-1]=(8*h + y[N-3] - 4*y[N-2])/(2*h-3)#==10....\n",
    "\n",
    "#print('\\n',YYY,'\\n')\n",
    "\n",
    "for i in range(1,N):\n",
    "    YYY[i]=y[i-1]\n",
    "    \n",
    "print('\\n',YYY,YYY.shape[0])\n",
    "x_i=[round(i*h,4) for i in range(a*N,b*N)]\n",
    "x_i.append(b*N*h)\n",
    "\n",
    "print(x_i,len(x_i))\n",
    "\n",
    "#fig, ax = plt.subplots(figsize=(10,10))\n",
    "#rcParams['figure.dpi']=150\n",
    "fig = plt.figure(figsize=(9,6)) \n",
    "plt.plot(x_i,YYY,'-',color='red', linewidth=2,label='alal')\n",
    "#plt.scatter(x1,y1,color='red', linewidth=0.5)\n",
    "plt.legend()\n",
    "plt.grid(True)\n",
    "plt.show()"
   ]
  },
  {
   "cell_type": "code",
   "execution_count": null,
   "metadata": {
    "collapsed": true
   },
   "outputs": [],
   "source": []
  },
  {
   "cell_type": "code",
   "execution_count": null,
   "metadata": {
    "collapsed": true
   },
   "outputs": [],
   "source": [
    "'''\n",
    "===========================================================================================================================\n",
    "===========================================================================================================================\n",
    "===========================================================================================================================\n",
    "===========================================================================================================================\n",
    "===========================================================================================================================\n",
    "===========================================================================================================================\n",
    "===========================================================================================================================\n",
    "===========================================================================================================================\n",
    "===========================================================================================================================\n",
    "===========================================================================================================================\n",
    "'''"
   ]
  },
  {
   "cell_type": "code",
   "execution_count": 11,
   "metadata": {},
   "outputs": [
    {
     "name": "stdout",
     "output_type": "stream",
     "text": [
      "[0.01, 0.02, 0.03, 0.04, 0.05, 0.06, 0.07, 0.08, 0.09, 0.1, 0.11, 0.12, 0.13, 0.14, 0.15, 0.16, 0.17, 0.18, 0.19, 0.2, 0.21, 0.22, 0.23, 0.24, 0.25, 0.26, 0.27, 0.28, 0.29, 0.3, 0.31, 0.32, 0.33, 0.34, 0.35, 0.36, 0.37, 0.38, 0.39, 0.4, 0.41, 0.42, 0.43, 0.44, 0.45, 0.46, 0.47, 0.48, 0.49, 0.5, 0.51, 0.52, 0.53, 0.54, 0.55, 0.56, 0.57, 0.58, 0.59, 0.6, 0.61, 0.62, 0.63, 0.64, 0.65, 0.66, 0.67, 0.68, 0.69, 0.7, 0.71, 0.72, 0.73, 0.74, 0.75, 0.76, 0.77, 0.78, 0.79, 0.8, 0.81, 0.82, 0.83, 0.84, 0.85, 0.86, 0.87, 0.88, 0.89, 0.9, 0.91, 0.92, 0.93, 0.94, 0.95, 0.96, 0.97, 0.98, 0.99, 1.0]\n",
      "[0. 0. 0. 0. 0. 0. 0. 0. 0. 0. 0. 0. 0. 0. 0. 0. 0. 0. 0. 0. 0. 0. 0. 0.\n",
      " 0. 0. 0. 0. 0. 0. 0. 0. 0. 0. 0. 0. 0. 0. 0. 0. 0. 0. 0. 0. 0. 0. 0. 0.\n",
      " 0. 0. 0. 0. 0. 0. 0. 0. 0. 0. 0. 0. 0. 0. 0. 0. 0. 0. 0. 0. 0. 0. 0. 0.\n",
      " 0. 0. 0. 0. 0. 0. 0. 0. 0. 0. 0. 0. 0. 0. 0. 0. 0. 0. 0. 0. 0. 0. 0. 0.\n",
      " 0. 0. 0.]\n",
      "(99, 99)\n",
      "[ 2.02973365  2.07015269  2.11099925  2.152282    2.19400975  2.23619151\n",
      "  2.27883646  2.32195396  2.36555357  2.40964503  2.45423828  2.49934346\n",
      "  2.54497093  2.59113123  2.63783514  2.68509364  2.73291794  2.78131947\n",
      "  2.83030989  2.87990111  2.93010527  2.98093476  3.0324022   3.08452049\n",
      "  3.13730278  3.19076249  3.24491331  3.29976919  3.35534439  3.41165345\n",
      "  3.46871118  3.52653272  3.58513349  3.64452925  3.70473606  3.7657703\n",
      "  3.82764869  3.89038829  3.95400649  4.01852106  4.0839501   4.15031208\n",
      "  4.21762586  4.28591067  4.35518612  4.42547224  4.49678943  4.56915855\n",
      "  4.64260082  4.71713795  4.79279204  4.86958567  4.94754186  5.0266841\n",
      "  5.10703635  5.18862306  5.27146917  5.35560012  5.44104187  5.5278209\n",
      "  5.61596424  5.70549945  5.79645464  5.88885852  5.98274033  6.07812996\n",
      "  6.17505785  6.27355509  6.37365338  6.47538507  6.57878316  6.68388132\n",
      "  6.7907139   6.89931593  7.00972316  7.12197208  7.23609987  7.35214451\n",
      "  7.47014473  7.59014002  7.7121707   7.83627788  7.96250353  8.09089044\n",
      "  8.22148227  8.35432358  8.4894598   8.62693731  8.7668034   8.90910633\n",
      "  9.05389533  9.20122064  9.35113348  9.50368614  9.65893196  9.81692533\n",
      "  9.97772177 10.14137791 10.30795153] 99\n"
     ]
    },
    {
     "data": {
      "image/png": "[encoded data removed]",
      "text/plain": [
       "<Figure size 432x432 with 1 Axes>"
      ]
     },
     "metadata": {},
     "output_type": "display_data"
    }
   ],
   "source": [
    "def q_i(x): \n",
    "    return 2/x\n",
    "\n",
    "def p_i(x): \n",
    "    return -(2*x + 1)/x\n",
    "\n",
    "def f_i(x): \n",
    "    return 0\n",
    "\n",
    "a=0\n",
    "b=1\n",
    "N=100\n",
    "h=(b-a)/N\n",
    "x_i=[round(i*h,4) for i in range(a*N,b*N)]\n",
    "x_i.append(b*N*h)\n",
    "\n",
    "x_i.pop(0)\n",
    "\n",
    "print(x_i)\n",
    "\n",
    "A_matr=np.zeros( (N-1, N-1) )\n",
    "B_matr=np.zeros( (N-1) )\n",
    "print(B_matr)\n",
    "\n",
    "print(A_matr.shape)\n",
    "\n",
    "A_matr[0][0]=-2 + q_i(x_i[0])*(h**2) + (1-p_i(x_i[0])*h/2)\n",
    "A_matr[0][1]=1 + p_i(x_i[0])*(h/2) \n",
    "B_matr[0]=(1 - p_i(x_i[0])*h/2)*4*h#почему еще на h доиножили?\n",
    "\n",
    "for i in range(1,N-2):\n",
    "    A_matr[i][i-1]=(1 - p_i(x_i[i])*h/2)\n",
    "    A_matr[i][i]=-2 + q_i(x_i[i])*h**2\n",
    "    A_matr[i][i+1]=(1 + p_i(x_i[i])*h/2)\n",
    "    \n",
    "A_matr[N-2][N-3]=1 - p_i(x_i[N-2])*h/2\n",
    "A_matr[N-2][N-2]=-2 + q_i(x_i[N-2])*(h**2) + (1+p_i(x_i[N-2])*h/2)/(-2*h+1)\n",
    "B_matr[N-2]=-4*h*(1 + p_i(x_i[N-2])*h/2)/(2*h-1)#почему еще на h доиножили?\n",
    "\n",
    "'''!!!!!!!!!!!!!!!!!!!!!!!!!!!!!!!!!!!!!!!!!!!!!!!!!!!!!!!!!!!!!!!!!!!!!!!!!!!!'''\n",
    "y=np.linalg.solve(A_matr, B_matr)\n",
    "print(y,y.shape[0])\n",
    "'''!!!!!!!!!!!!!!!!!!!!!!!!!!!!!!!!!!!!!!!!!!!!!!!!!!!!!!!!!!!!!!!!!!!!!!!!!!!!'''\n",
    "\n",
    "YYY=np.zeros( (y.shape[0]+2) )\n",
    "YYY[0]=-(8*h + y[1] - 4*y[0])/3\n",
    "YYY[-1]=(8*h + y[N-3] - 4*y[N-2])/(2*h-3)\n",
    "\n",
    "for i in range(1,N):\n",
    "    YYY[i]=y[i-1]\n",
    "    \n",
    "x_i=[round(i*h,4) for i in range(a*N,b*N)]\n",
    "x_i.append(b*N*h)\n",
    "\n",
    "#fig, ax = plt.subplots(figsize=(10,10))\n",
    "#rcParams['figure.dpi']=150\n",
    "fig = plt.figure(figsize=(6,6)) \n",
    "plt.plot(x_i,YYY,'-',color='red', linewidth=2,label='alal')\n",
    "#plt.scatter(x1,y1,color='red', linewidth=0.5)\n",
    "plt.legend()\n",
    "plt.grid(True)\n",
    "plt.show()"
   ]
  },
  {
   "cell_type": "code",
   "execution_count": 1,
   "metadata": {},
   "outputs": [
    {
     "data": {
      "text/plain": [
       "1.2100000000000002"
      ]
     },
     "execution_count": 1,
     "metadata": {},
     "output_type": "execute_result"
    }
   ],
   "source": [
    "1.1**2"
   ]
  },
  {
   "cell_type": "code",
   "execution_count": 34,
   "metadata": {},
   "outputs": [
    {
     "name": "stdout",
     "output_type": "stream",
     "text": [
      "[1 2 3]\n",
      "[[1, 2, 3, 3], [7, 8, 9, 2], [4, 5, 6, 1], [3, 2, 1, 0]]\n"
     ]
    }
   ],
   "source": [
    "c=[]\n",
    "print(a[0])\n",
    "for i in range(len(a)):\n",
    "    c.append(list(np.append(a[i],b[i])))\n",
    "    \n",
    "print(c)"
   ]
  },
  {
   "cell_type": "code",
   "execution_count": 17,
   "metadata": {},
   "outputs": [
    {
     "name": "stdout",
     "output_type": "stream",
     "text": [
      "0.011281\n",
      "0.2 21\n",
      "21 0.011281\n"
     ]
    }
   ],
   "source": [
    "re1=np.array([0.2,0.13115,0.066417,0.006456,-0.048,-0.09615,-0.13715,-0.170152,-0.194374,-0.20918,-0.21416,-0.20919,-0.194446,-0.170379,-0.137639,-0.097001,-0.049286,0.004698,0.064186,0.12848,0.196954])\n",
    "re2=np.array([0.210817,0.131705,0.060907,-0.001577,-0.055747,-0.101604,-0.139146,-0.168374,-0.189288,-0.201888,-0.206174,-0.202146,-0.189804,-0.169148,-0.140178,-0.102894,-0.057297,-0.003385,0.058841,0.129381,0.2082350])\n",
    "\n",
    "print(round(max(abs(re1-re2)),8))\n",
    "box=0\n",
    "ind=0\n",
    "print(re1[0],len(re1))\n",
    "for i in range(len(re1)):\n",
    "    #print(abs(re1[i]-re2[i]))\n",
    "    if abs(re1[i]-re2[i])>box:\n",
    "        box=abs(re1[i]-re2[i])\n",
    "        ind=i+1\n",
    "    \n",
    "print(ind,round(box,8))"
   ]
  },
  {
   "cell_type": "code",
   "execution_count": null,
   "metadata": {
    "collapsed": true
   },
   "outputs": [],
   "source": []
  }
 ],
 "metadata": {
  "kernelspec": {
   "display_name": "Python 3",
   "language": "python",
   "name": "python3"
  },
  "language_info": {
   "codemirror_mode": {
    "name": "ipython",
    "version": 3
   },
   "file_extension": ".py",
   "mimetype": "text/x-python",
   "name": "python",
   "nbconvert_exporter": "python",
   "pygments_lexer": "ipython3",
   "version": "3.6.3"
  }
 },
 "nbformat": 4,
 "nbformat_minor": 2
}
